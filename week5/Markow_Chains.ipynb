{
 "cells": [
  {
   "cell_type": "markdown",
   "metadata": {},
   "source": [
    "# Markow Chains"
   ]
  },
  {
   "cell_type": "code",
   "execution_count": 1,
   "metadata": {
    "collapsed": true
   },
   "outputs": [],
   "source": [
    "reset -fs"
   ]
  },
  {
   "cell_type": "markdown",
   "metadata": {},
   "source": [
    "### Project revenues for the next 10 years.\n",
    "\n",
    "### Discount rate: 10%\n",
    "\n",
    "### What would be the value of the customer base in 2025."
   ]
  },
  {
   "cell_type": "code",
   "execution_count": 2,
   "metadata": {
    "collapsed": false
   },
   "outputs": [
    {
     "name": "stdout",
     "output_type": "stream",
     "text": [
      "Populating the interactive namespace from numpy and matplotlib\n"
     ]
    }
   ],
   "source": [
    "import numpy as np\n",
    "import pandas as pd\n",
    "import matplotlib.pyplot as plt\n",
    "%pylab inline"
   ]
  },
  {
   "cell_type": "code",
   "execution_count": 3,
   "metadata": {
    "collapsed": false
   },
   "outputs": [],
   "source": [
    "df = pd.read_csv('purchases.txt', sep=\"\\t\", header=None, names=['customer_id', 'purchase_amount', 'date_purchase'])"
   ]
  },
  {
   "cell_type": "code",
   "execution_count": 4,
   "metadata": {
    "collapsed": false
   },
   "outputs": [
    {
     "data": {
      "text/html": [
       "<div>\n",
       "<table border=\"1\" class=\"dataframe\">\n",
       "  <thead>\n",
       "    <tr style=\"text-align: right;\">\n",
       "      <th></th>\n",
       "      <th>customer_id</th>\n",
       "      <th>purchase_amount</th>\n",
       "      <th>date_purchase</th>\n",
       "    </tr>\n",
       "  </thead>\n",
       "  <tbody>\n",
       "    <tr>\n",
       "      <th>0</th>\n",
       "      <td>760</td>\n",
       "      <td>25.0</td>\n",
       "      <td>2009-11-06</td>\n",
       "    </tr>\n",
       "    <tr>\n",
       "      <th>1</th>\n",
       "      <td>860</td>\n",
       "      <td>50.0</td>\n",
       "      <td>2012-09-28</td>\n",
       "    </tr>\n",
       "    <tr>\n",
       "      <th>2</th>\n",
       "      <td>1200</td>\n",
       "      <td>100.0</td>\n",
       "      <td>2005-10-25</td>\n",
       "    </tr>\n",
       "    <tr>\n",
       "      <th>3</th>\n",
       "      <td>1420</td>\n",
       "      <td>50.0</td>\n",
       "      <td>2009-07-09</td>\n",
       "    </tr>\n",
       "    <tr>\n",
       "      <th>4</th>\n",
       "      <td>1940</td>\n",
       "      <td>70.0</td>\n",
       "      <td>2013-01-25</td>\n",
       "    </tr>\n",
       "  </tbody>\n",
       "</table>\n",
       "</div>"
      ],
      "text/plain": [
       "   customer_id  purchase_amount date_purchase\n",
       "0          760             25.0    2009-11-06\n",
       "1          860             50.0    2012-09-28\n",
       "2         1200            100.0    2005-10-25\n",
       "3         1420             50.0    2009-07-09\n",
       "4         1940             70.0    2013-01-25"
      ]
     },
     "execution_count": 4,
     "metadata": {},
     "output_type": "execute_result"
    }
   ],
   "source": [
    "df.head()"
   ]
  },
  {
   "cell_type": "code",
   "execution_count": 5,
   "metadata": {
    "collapsed": false
   },
   "outputs": [
    {
     "data": {
      "text/plain": [
       "(51243, 3)"
      ]
     },
     "execution_count": 5,
     "metadata": {},
     "output_type": "execute_result"
    }
   ],
   "source": [
    "df.shape"
   ]
  },
  {
   "cell_type": "code",
   "execution_count": 6,
   "metadata": {
    "collapsed": false
   },
   "outputs": [
    {
     "name": "stdout",
     "output_type": "stream",
     "text": [
      "<class 'pandas.core.frame.DataFrame'>\n",
      "RangeIndex: 51243 entries, 0 to 51242\n",
      "Data columns (total 3 columns):\n",
      "customer_id        51243 non-null int64\n",
      "purchase_amount    51243 non-null float64\n",
      "date_purchase      51243 non-null object\n",
      "dtypes: float64(1), int64(1), object(1)\n",
      "memory usage: 1.2+ MB\n"
     ]
    }
   ],
   "source": [
    "df.info()"
   ]
  },
  {
   "cell_type": "code",
   "execution_count": 7,
   "metadata": {
    "collapsed": true
   },
   "outputs": [],
   "source": [
    "df['date_purchase'] =  pd.to_datetime(df['date_purchase'])"
   ]
  },
  {
   "cell_type": "code",
   "execution_count": 8,
   "metadata": {
    "collapsed": true
   },
   "outputs": [],
   "source": [
    "df['year_purchase'] = df['date_purchase'].apply(lambda x: x.year)"
   ]
  },
  {
   "cell_type": "code",
   "execution_count": 9,
   "metadata": {
    "collapsed": false
   },
   "outputs": [
    {
     "data": {
      "text/html": [
       "<div>\n",
       "<table border=\"1\" class=\"dataframe\">\n",
       "  <thead>\n",
       "    <tr style=\"text-align: right;\">\n",
       "      <th></th>\n",
       "      <th>customer_id</th>\n",
       "      <th>purchase_amount</th>\n",
       "      <th>date_purchase</th>\n",
       "      <th>year_purchase</th>\n",
       "    </tr>\n",
       "  </thead>\n",
       "  <tbody>\n",
       "    <tr>\n",
       "      <th>0</th>\n",
       "      <td>760</td>\n",
       "      <td>25.0</td>\n",
       "      <td>2009-11-06</td>\n",
       "      <td>2009</td>\n",
       "    </tr>\n",
       "    <tr>\n",
       "      <th>1</th>\n",
       "      <td>860</td>\n",
       "      <td>50.0</td>\n",
       "      <td>2012-09-28</td>\n",
       "      <td>2012</td>\n",
       "    </tr>\n",
       "    <tr>\n",
       "      <th>2</th>\n",
       "      <td>1200</td>\n",
       "      <td>100.0</td>\n",
       "      <td>2005-10-25</td>\n",
       "      <td>2005</td>\n",
       "    </tr>\n",
       "    <tr>\n",
       "      <th>3</th>\n",
       "      <td>1420</td>\n",
       "      <td>50.0</td>\n",
       "      <td>2009-07-09</td>\n",
       "      <td>2009</td>\n",
       "    </tr>\n",
       "    <tr>\n",
       "      <th>4</th>\n",
       "      <td>1940</td>\n",
       "      <td>70.0</td>\n",
       "      <td>2013-01-25</td>\n",
       "      <td>2013</td>\n",
       "    </tr>\n",
       "  </tbody>\n",
       "</table>\n",
       "</div>"
      ],
      "text/plain": [
       "   customer_id  purchase_amount date_purchase  year_purchase\n",
       "0          760             25.0    2009-11-06           2009\n",
       "1          860             50.0    2012-09-28           2012\n",
       "2         1200            100.0    2005-10-25           2005\n",
       "3         1420             50.0    2009-07-09           2009\n",
       "4         1940             70.0    2013-01-25           2013"
      ]
     },
     "execution_count": 9,
     "metadata": {},
     "output_type": "execute_result"
    }
   ],
   "source": [
    "df.head()"
   ]
  },
  {
   "cell_type": "code",
   "execution_count": 10,
   "metadata": {
    "collapsed": false
   },
   "outputs": [
    {
     "name": "stdout",
     "output_type": "stream",
     "text": [
      "<class 'pandas.core.frame.DataFrame'>\n",
      "RangeIndex: 51243 entries, 0 to 51242\n",
      "Data columns (total 4 columns):\n",
      "customer_id        51243 non-null int64\n",
      "purchase_amount    51243 non-null float64\n",
      "date_purchase      51243 non-null datetime64[ns]\n",
      "year_purchase      51243 non-null int64\n",
      "dtypes: datetime64[ns](1), float64(1), int64(2)\n",
      "memory usage: 1.6 MB\n"
     ]
    }
   ],
   "source": [
    "df.info()"
   ]
  },
  {
   "cell_type": "code",
   "execution_count": 11,
   "metadata": {
    "collapsed": false
   },
   "outputs": [
    {
     "data": {
      "text/plain": [
       "9720      45\n",
       "109370    41\n",
       "119430    38\n",
       "10720     37\n",
       "10640     34\n",
       "1420      34\n",
       "116310    29\n",
       "81640     28\n",
       "6750      28\n",
       "57390     27\n",
       "6870      27\n",
       "71350     26\n",
       "117460    26\n",
       "9830      26\n",
       "6690      25\n",
       "125500    24\n",
       "11740     23\n",
       "105870    23\n",
       "9090      23\n",
       "9790      22\n",
       "5990      22\n",
       "10930     22\n",
       "15160     22\n",
       "13290     22\n",
       "2720      21\n",
       "53070     21\n",
       "9360      21\n",
       "150330    21\n",
       "139310    21\n",
       "95830     21\n",
       "          ..\n",
       "204040     1\n",
       "80080      1\n",
       "198870     1\n",
       "105720     1\n",
       "257270     1\n",
       "84190      1\n",
       "178400     1\n",
       "7400       1\n",
       "158950     1\n",
       "252140     1\n",
       "235780     1\n",
       "232730     1\n",
       "175390     1\n",
       "224550     1\n",
       "163140     1\n",
       "227480     1\n",
       "138600     1\n",
       "256170     1\n",
       "261460     1\n",
       "186540     1\n",
       "211120     1\n",
       "141490     1\n",
       "73000      1\n",
       "220480     1\n",
       "113980     1\n",
       "71860      1\n",
       "2230       1\n",
       "170180     1\n",
       "15660      1\n",
       "176090     1\n",
       "Name: customer_id, dtype: int64"
      ]
     },
     "execution_count": 11,
     "metadata": {},
     "output_type": "execute_result"
    }
   ],
   "source": [
    "df.customer_id.value_counts()"
   ]
  },
  {
   "cell_type": "code",
   "execution_count": 12,
   "metadata": {
    "collapsed": false
   },
   "outputs": [
    {
     "data": {
      "text/plain": [
       "date_purchase\n",
       "2005-01-02      3\n",
       "2005-01-04      2\n",
       "2005-01-06      3\n",
       "2005-01-07      7\n",
       "2005-01-08      4\n",
       "2005-01-10      4\n",
       "2005-01-12      2\n",
       "2005-01-13      5\n",
       "2005-01-14      4\n",
       "2005-01-15      2\n",
       "2005-01-16      1\n",
       "2005-01-18      5\n",
       "2005-01-19      4\n",
       "2005-01-20      6\n",
       "2005-01-21      9\n",
       "2005-01-23      2\n",
       "2005-01-25      2\n",
       "2005-01-26      2\n",
       "2005-01-27      2\n",
       "2005-01-29      1\n",
       "2005-01-30      2\n",
       "2005-02-01      1\n",
       "2005-02-02      1\n",
       "2005-02-04      1\n",
       "2005-02-06      1\n",
       "2005-02-08      1\n",
       "2005-02-11      1\n",
       "2005-02-12      1\n",
       "2005-02-15      1\n",
       "2005-03-02      1\n",
       "             ... \n",
       "2015-12-02     62\n",
       "2015-12-03     19\n",
       "2015-12-04     31\n",
       "2015-12-05     25\n",
       "2015-12-06     10\n",
       "2015-12-07      4\n",
       "2015-12-08     77\n",
       "2015-12-09     45\n",
       "2015-12-10     58\n",
       "2015-12-11     28\n",
       "2015-12-12      7\n",
       "2015-12-13      2\n",
       "2015-12-14      2\n",
       "2015-12-15     25\n",
       "2015-12-16      6\n",
       "2015-12-17    200\n",
       "2015-12-18     28\n",
       "2015-12-19    105\n",
       "2015-12-20      2\n",
       "2015-12-21      7\n",
       "2015-12-22     22\n",
       "2015-12-23    111\n",
       "2015-12-24     90\n",
       "2015-12-25      3\n",
       "2015-12-26     47\n",
       "2015-12-27      3\n",
       "2015-12-28      4\n",
       "2015-12-29    160\n",
       "2015-12-30    108\n",
       "2015-12-31    464\n",
       "Name: customer_id, dtype: int64"
      ]
     },
     "execution_count": 12,
     "metadata": {},
     "output_type": "execute_result"
    }
   ],
   "source": [
    "df.groupby('date_purchase')['customer_id'].count()"
   ]
  },
  {
   "cell_type": "code",
   "execution_count": 13,
   "metadata": {
    "collapsed": false
   },
   "outputs": [
    {
     "data": {
      "text/plain": [
       "date_purchase\n",
       "2005-01-02      140.00\n",
       "2005-01-04       50.00\n",
       "2005-01-06      270.00\n",
       "2005-01-07      430.00\n",
       "2005-01-08      300.00\n",
       "2005-01-10      145.00\n",
       "2005-01-12      253.36\n",
       "2005-01-13      160.00\n",
       "2005-01-14      305.00\n",
       "2005-01-15       85.00\n",
       "2005-01-16       10.00\n",
       "2005-01-18      433.45\n",
       "2005-01-19      210.00\n",
       "2005-01-20      200.00\n",
       "2005-01-21      295.00\n",
       "2005-01-23       70.00\n",
       "2005-01-25       80.00\n",
       "2005-01-26      180.00\n",
       "2005-01-27       60.00\n",
       "2005-01-29       25.00\n",
       "2005-01-30       90.00\n",
       "2005-02-01       30.00\n",
       "2005-02-02       50.00\n",
       "2005-02-04       60.00\n",
       "2005-02-06       75.00\n",
       "2005-02-08       30.00\n",
       "2005-02-11       50.00\n",
       "2005-02-12       30.00\n",
       "2005-02-15       30.00\n",
       "2005-03-02       30.00\n",
       "                ...   \n",
       "2015-12-02     4347.00\n",
       "2015-12-03     1255.00\n",
       "2015-12-04     3525.00\n",
       "2015-12-05     1255.00\n",
       "2015-12-06      945.00\n",
       "2015-12-07      310.00\n",
       "2015-12-08     5752.00\n",
       "2015-12-09     2925.00\n",
       "2015-12-10     6920.00\n",
       "2015-12-11     2220.00\n",
       "2015-12-12      785.00\n",
       "2015-12-13      320.00\n",
       "2015-12-14     1000.00\n",
       "2015-12-15     2970.00\n",
       "2015-12-16      395.00\n",
       "2015-12-17    11881.00\n",
       "2015-12-18     1655.00\n",
       "2015-12-19     7710.00\n",
       "2015-12-20      250.00\n",
       "2015-12-21      575.00\n",
       "2015-12-22     2184.00\n",
       "2015-12-23     6671.00\n",
       "2015-12-24     9280.00\n",
       "2015-12-25     1130.00\n",
       "2015-12-26     4538.00\n",
       "2015-12-27      304.00\n",
       "2015-12-28      380.00\n",
       "2015-12-29    14317.00\n",
       "2015-12-30     6610.00\n",
       "2015-12-31    58505.00\n",
       "Name: purchase_amount, dtype: float64"
      ]
     },
     "execution_count": 13,
     "metadata": {},
     "output_type": "execute_result"
    }
   ],
   "source": [
    "df.groupby('date_purchase')['purchase_amount'].sum()"
   ]
  },
  {
   "cell_type": "code",
   "execution_count": 14,
   "metadata": {
    "collapsed": false
   },
   "outputs": [
    {
     "data": {
      "text/plain": [
       "Timedelta('4015 days 00:00:00')"
      ]
     },
     "execution_count": 14,
     "metadata": {},
     "output_type": "execute_result"
    }
   ],
   "source": [
    "max(df['date_purchase']) - min(df['date_purchase'])"
   ]
  },
  {
   "cell_type": "code",
   "execution_count": 15,
   "metadata": {
    "collapsed": false
   },
   "outputs": [
    {
     "name": "stdout",
     "output_type": "stream",
     "text": [
      "Number of years of data:  11.0\n"
     ]
    }
   ],
   "source": [
    "print(\"Number of years of data: \", 4015/365)"
   ]
  },
  {
   "cell_type": "code",
   "execution_count": 16,
   "metadata": {
    "collapsed": false
   },
   "outputs": [
    {
     "data": {
      "text/plain": [
       "year_purchase\n",
       "2005    1470\n",
       "2006    2182\n",
       "2007    4674\n",
       "2008    4331\n",
       "2009    5054\n",
       "2010    4939\n",
       "2011    4785\n",
       "2012    5960\n",
       "2013    5912\n",
       "2014    5739\n",
       "2015    6197\n",
       "Name: customer_id, dtype: int64"
      ]
     },
     "execution_count": 16,
     "metadata": {},
     "output_type": "execute_result"
    }
   ],
   "source": [
    "df.groupby('year_purchase')['customer_id'].count()"
   ]
  },
  {
   "cell_type": "code",
   "execution_count": 17,
   "metadata": {
    "collapsed": false
   },
   "outputs": [
    {
     "data": {
      "image/png": "[encoded data removed]",
      "text/plain": [
       "<matplotlib.figure.Figure at 0x1188cf7f0>"
      ]
     },
     "metadata": {},
     "output_type": "display_data"
    }
   ],
   "source": [
    "sep_dic_plot = df.groupby('year_purchase').count()['customer_id'].plot(rot=90)\n",
    "#sep_dic_plot.set(xlabel='Month', ylabel='Users')\n",
    "#plot_mean = trips_sep_dec.groupby('date').count()['trip_id'].mean()\n",
    "#plot_std = trips_sep_dec.groupby('date').count()['trip_id'].std()\n",
    "#sep_dic_plot.axhline(y=plot_mean, color='black')\n",
    "#sep_dic_plot.axhline(y=plot_mean+plot_std*1.5, color='red', ls='dashed')\n",
    "#sep_dic_plot.axhline(y=plot_mean-plot_std*1.5, color='red', ls='dashed')\n",
    "#sep_dic_plot.plot()"
   ]
  },
  {
   "cell_type": "code",
   "execution_count": 18,
   "metadata": {
    "collapsed": false
   },
   "outputs": [
    {
     "data": {
      "text/plain": [
       "<matplotlib.axes._subplots.AxesSubplot at 0x1188cff98>"
      ]
     },
     "execution_count": 18,
     "metadata": {},
     "output_type": "execute_result"
    },
    {
     "data": {
      "image/png": "[encoded data removed]",
      "text/plain": [
       "<matplotlib.figure.Figure at 0x118cf9be0>"
      ]
     },
     "metadata": {},
     "output_type": "display_data"
    }
   ],
   "source": [
    "df.groupby('date_purchase').count()['customer_id'].plot(rot=90)"
   ]
  },
  {
   "cell_type": "code",
   "execution_count": 19,
   "metadata": {
    "collapsed": false
   },
   "outputs": [
    {
     "data": {
      "text/plain": [
       "array([[<matplotlib.axes._subplots.AxesSubplot object at 0x118d40cc0>]], dtype=object)"
      ]
     },
     "execution_count": 19,
     "metadata": {},
     "output_type": "execute_result"
    },
    {
     "data": {
      "image/png": "[encoded data removed]",
      "text/plain": [
       "<matplotlib.figure.Figure at 0x118cd9b38>"
      ]
     },
     "metadata": {},
     "output_type": "display_data"
    }
   ],
   "source": [
    "df.hist(column=\"purchase_amount\")"
   ]
  },
  {
   "cell_type": "code",
   "execution_count": null,
   "metadata": {
    "collapsed": true
   },
   "outputs": [],
   "source": []
  }
 ],
 "metadata": {
  "anaconda-cloud": {},
  "kernelspec": {
   "display_name": "Python [Root]",
   "language": "python",
   "name": "Python [Root]"
  },
  "language_info": {
   "codemirror_mode": {
    "name": "ipython",
    "version": 3
   },
   "file_extension": ".py",
   "mimetype": "text/x-python",
   "name": "python",
   "nbconvert_exporter": "python",
   "pygments_lexer": "ipython3",
   "version": "3.5.2"
  }
 },
 "nbformat": 4,
 "nbformat_minor": 0
}
