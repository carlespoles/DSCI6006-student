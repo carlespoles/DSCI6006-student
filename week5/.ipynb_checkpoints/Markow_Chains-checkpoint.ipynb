{
 "cells": [
  {
   "cell_type": "markdown",
   "metadata": {},
   "source": [
    "# Markow Chains with sales data."
   ]
  },
  {
   "cell_type": "markdown",
   "metadata": {},
   "source": [
    "### Load data."
   ]
  },
  {
   "cell_type": "code",
   "execution_count": 1,
   "metadata": {
    "collapsed": true
   },
   "outputs": [],
   "source": [
    "data = read.delim(file = 'purchases.txt', header = FALSE, sep = '\\t', dec = '.')"
   ]
  },
  {
   "cell_type": "markdown",
   "metadata": {},
   "source": [
    "## Adding headers, set last column as a date and extract year of purchase."
   ]
  },
  {
   "cell_type": "code",
   "execution_count": 2,
   "metadata": {
    "collapsed": true
   },
   "outputs": [],
   "source": [
    "colnames(data) = c('customer_id', 'purchase_amount', 'date_of_purchase')\n",
    "data$date_of_purchase = as.Date(data$date_of_purchase, \"%Y-%m-%d\")\n",
    "data$year_of_purchase = as.numeric(format(data$date_of_purchase, \"%Y\"))\n",
    "data$days_since       = as.numeric(difftime(time1 = \"2016-01-01\",\n",
    "                                            time2 = data$date_of_purchase,\n",
    "                                            units = \"days\"))"
   ]
  },
  {
   "cell_type": "code",
   "execution_count": 8,
   "metadata": {
    "collapsed": false
   },
   "outputs": [
    {
     "data": {
      "text/html": [
       "<table>\n",
       "<thead><tr><th scope=col>customer_id</th><th scope=col>purchase_amount</th><th scope=col>date_of_purchase</th><th scope=col>year_of_purchase</th><th scope=col>days_since</th></tr></thead>\n",
       "<tbody>\n",
       "\t<tr><td> 760      </td><td> 25       </td><td>2009-11-06</td><td>2009      </td><td>2247.3333 </td></tr>\n",
       "\t<tr><td> 860      </td><td> 50       </td><td>2012-09-28</td><td>2012      </td><td>1190.3333 </td></tr>\n",
       "\t<tr><td>1200      </td><td>100       </td><td>2005-10-25</td><td>2005      </td><td>3720.3333 </td></tr>\n",
       "\t<tr><td>1420      </td><td> 50       </td><td>2009-07-09</td><td>2009      </td><td>2367.3333 </td></tr>\n",
       "\t<tr><td>1940      </td><td> 70       </td><td>2013-01-25</td><td>2013      </td><td>1071.3333 </td></tr>\n",
       "\t<tr><td>1960      </td><td> 40       </td><td>2013-10-29</td><td>2013      </td><td> 794.3333 </td></tr>\n",
       "</tbody>\n",
       "</table>\n"
      ],
      "text/latex": [
       "\\begin{tabular}{r|lllll}\n",
       " customer\\_id & purchase\\_amount & date\\_of\\_purchase & year\\_of\\_purchase & days\\_since\\\\\n",
       "\\hline\n",
       "\t  760       &  25        & 2009-11-06 & 2009       & 2247.3333 \\\\\n",
       "\t  860       &  50        & 2012-09-28 & 2012       & 1190.3333 \\\\\n",
       "\t 1200       & 100        & 2005-10-25 & 2005       & 3720.3333 \\\\\n",
       "\t 1420       &  50        & 2009-07-09 & 2009       & 2367.3333 \\\\\n",
       "\t 1940       &  70        & 2013-01-25 & 2013       & 1071.3333 \\\\\n",
       "\t 1960       &  40        & 2013-10-29 & 2013       &  794.3333 \\\\\n",
       "\\end{tabular}\n"
      ],
      "text/markdown": [
       "\n",
       "customer_id | purchase_amount | date_of_purchase | year_of_purchase | days_since | \n",
       "|---|---|---|---|---|---|\n",
       "|  760       |  25        | 2009-11-06 | 2009       | 2247.3333  | \n",
       "|  860       |  50        | 2012-09-28 | 2012       | 1190.3333  | \n",
       "| 1200       | 100        | 2005-10-25 | 2005       | 3720.3333  | \n",
       "| 1420       |  50        | 2009-07-09 | 2009       | 2367.3333  | \n",
       "| 1940       |  70        | 2013-01-25 | 2013       | 1071.3333  | \n",
       "| 1960       |  40        | 2013-10-29 | 2013       |  794.3333  | \n",
       "\n",
       "\n"
      ],
      "text/plain": [
       "  customer_id purchase_amount date_of_purchase year_of_purchase days_since\n",
       "1  760         25             2009-11-06       2009             2247.3333 \n",
       "2  860         50             2012-09-28       2012             1190.3333 \n",
       "3 1200        100             2005-10-25       2005             3720.3333 \n",
       "4 1420         50             2009-07-09       2009             2367.3333 \n",
       "5 1940         70             2013-01-25       2013             1071.3333 \n",
       "6 1960         40             2013-10-29       2013              794.3333 "
      ]
     },
     "metadata": {},
     "output_type": "display_data"
    }
   ],
   "source": [
    "head(data)"
   ]
  },
  {
   "cell_type": "markdown",
   "metadata": {},
   "source": [
    "### KPIs for customers in 2015."
   ]
  },
  {
   "cell_type": "code",
   "execution_count": 4,
   "metadata": {
    "collapsed": false
   },
   "outputs": [
    {
     "name": "stderr",
     "output_type": "stream",
     "text": [
      "\n",
      "Attaching package: ‘dplyr’\n",
      "\n",
      "The following objects are masked from ‘package:stats’:\n",
      "\n",
      "    filter, lag\n",
      "\n",
      "The following objects are masked from ‘package:base’:\n",
      "\n",
      "    intersect, setdiff, setequal, union\n",
      "\n"
     ]
    },
    {
     "data": {
      "text/html": [
       "<table>\n",
       "<thead><tr><th scope=col>customer_id</th><th scope=col>recency</th><th scope=col>first_purchase</th><th scope=col>frequency</th><th scope=col>amount</th></tr></thead>\n",
       "<tbody>\n",
       "\t<tr><td> 10      </td><td>3829.3333</td><td>3829.333 </td><td> 1       </td><td> 30.00000</td></tr>\n",
       "\t<tr><td> 80      </td><td> 343.3333</td><td>3751.333 </td><td> 7       </td><td> 71.42857</td></tr>\n",
       "\t<tr><td> 90      </td><td> 758.3333</td><td>3783.333 </td><td>10       </td><td>115.80000</td></tr>\n",
       "\t<tr><td>120      </td><td>1401.3333</td><td>1401.333 </td><td> 1       </td><td> 20.00000</td></tr>\n",
       "\t<tr><td>130      </td><td>2970.3333</td><td>3710.333 </td><td> 2       </td><td> 50.00000</td></tr>\n",
       "\t<tr><td>160      </td><td>2963.3333</td><td>3577.333 </td><td> 2       </td><td> 30.00000</td></tr>\n",
       "</tbody>\n",
       "</table>\n"
      ],
      "text/latex": [
       "\\begin{tabular}{r|lllll}\n",
       " customer\\_id & recency & first\\_purchase & frequency & amount\\\\\n",
       "\\hline\n",
       "\t  10       & 3829.3333 & 3829.333  &  1        &  30.00000\\\\\n",
       "\t  80       &  343.3333 & 3751.333  &  7        &  71.42857\\\\\n",
       "\t  90       &  758.3333 & 3783.333  & 10        & 115.80000\\\\\n",
       "\t 120       & 1401.3333 & 1401.333  &  1        &  20.00000\\\\\n",
       "\t 130       & 2970.3333 & 3710.333  &  2        &  50.00000\\\\\n",
       "\t 160       & 2963.3333 & 3577.333  &  2        &  30.00000\\\\\n",
       "\\end{tabular}\n"
      ],
      "text/markdown": [
       "\n",
       "customer_id | recency | first_purchase | frequency | amount | \n",
       "|---|---|---|---|---|---|\n",
       "|  10       | 3829.3333 | 3829.333  |  1        |  30.00000 | \n",
       "|  80       |  343.3333 | 3751.333  |  7        |  71.42857 | \n",
       "|  90       |  758.3333 | 3783.333  | 10        | 115.80000 | \n",
       "| 120       | 1401.3333 | 1401.333  |  1        |  20.00000 | \n",
       "| 130       | 2970.3333 | 3710.333  |  2        |  50.00000 | \n",
       "| 160       | 2963.3333 | 3577.333  |  2        |  30.00000 | \n",
       "\n",
       "\n"
      ],
      "text/plain": [
       "  customer_id recency   first_purchase frequency amount   \n",
       "1  10         3829.3333 3829.333        1         30.00000\n",
       "2  80          343.3333 3751.333        7         71.42857\n",
       "3  90          758.3333 3783.333       10        115.80000\n",
       "4 120         1401.3333 1401.333        1         20.00000\n",
       "5 130         2970.3333 3710.333        2         50.00000\n",
       "6 160         2963.3333 3577.333        2         30.00000"
      ]
     },
     "metadata": {},
     "output_type": "display_data"
    }
   ],
   "source": [
    "library(dplyr)\n",
    "\n",
    "customers_2015 <- data %>% group_by(customer_id) %>% \n",
    "                  summarize(   # creates new variables:\n",
    "                    recency = min(days_since),\n",
    "                    first_purchase = max(days_since),\n",
    "                    frequency = n(),\n",
    "                    amount = mean(purchase_amount)  ) \n",
    "\n",
    "head(customers_2015)"
   ]
  },
  {
   "cell_type": "markdown",
   "metadata": {},
   "source": [
    "### Segmenting customers in 2015."
   ]
  },
  {
   "cell_type": "markdown",
   "metadata": {},
   "source": [
    "#### These are the segments we define:\n",
    "\n",
    "* inactive.\n",
    "* cold.\n",
    "* warm: new warm, warm high value, warm low value.\n",
    "* active: new active, active high value, active low value."
   ]
  },
  {
   "cell_type": "code",
   "execution_count": 9,
   "metadata": {
    "collapsed": true
   },
   "outputs": [],
   "source": [
    "customers_2015$segment = \"NA\"\n",
    "customers_2015$segment[which(customers_2015$recency > 365*3)] = \"inactive\"\n",
    "customers_2015$segment[which(customers_2015$recency <= 365*3 & customers_2015$recency > 365*2)] = \"cold\"\n",
    "customers_2015$segment[which(customers_2015$recency <= 365*2 & customers_2015$recency > 365*1)] = \"warm\"\n",
    "customers_2015$segment[which(customers_2015$recency <= 365)] = \"active\"\n",
    "customers_2015$segment[which(customers_2015$segment == \"warm\" & customers_2015$first_purchase <= 365*2)] = \"new warm\"\n",
    "customers_2015$segment[which(customers_2015$segment == \"warm\" & customers_2015$amount < 100)] = \"warm low value\"\n",
    "customers_2015$segment[which(customers_2015$segment == \"warm\" & customers_2015$amount >= 100)] = \"warm high value\"\n",
    "customers_2015$segment[which(customers_2015$segment == \"active\" & customers_2015$first_purchase <= 365)] = \"new active\"\n",
    "customers_2015$segment[which(customers_2015$segment == \"active\" & customers_2015$amount < 100)] = \"active low value\"\n",
    "customers_2015$segment[which(customers_2015$segment == \"active\" & customers_2015$amount >= 100)] = \"active high value\""
   ]
  },
  {
   "cell_type": "markdown",
   "metadata": {},
   "source": [
    "#### Rearranging segments:"
   ]
  },
  {
   "cell_type": "code",
   "execution_count": 10,
   "metadata": {
    "collapsed": false
   },
   "outputs": [
    {
     "data": {
      "text/plain": [
       "\n",
       "         inactive              cold   warm high value    warm low value \n",
       "             9158              1903               119               901 \n",
       "         new warm active high value  active low value        new active \n",
       "              938               573              3313              1512 "
      ]
     },
     "metadata": {},
     "output_type": "display_data"
    }
   ],
   "source": [
    "customers_2015$segment <- factor(x = customers_2015$segment, \n",
    "                                levels = c(\"inactive\", \"cold\",\n",
    "                            \"warm high value\", \"warm low value\", \"new warm\",\n",
    "                            \"active high value\", \"active low value\", \"new active\"))\n",
    "\n",
    "table(customers_2015$segment)"
   ]
  },
  {
   "cell_type": "markdown",
   "metadata": {},
   "source": [
    "### KPIs for customers in 2014."
   ]
  },
  {
   "cell_type": "code",
   "execution_count": null,
   "metadata": {
    "collapsed": true
   },
   "outputs": [],
   "source": []
  }
 ],
 "metadata": {
  "anaconda-cloud": {},
  "kernelspec": {
   "display_name": "R [my-r-env]",
   "language": "R",
   "name": "R [my-r-env]"
  },
  "language_info": {
   "codemirror_mode": "r",
   "file_extension": ".r",
   "mimetype": "text/x-r-source",
   "name": "R",
   "pygments_lexer": "r",
   "version": "3.3.2"
  }
 },
 "nbformat": 4,
 "nbformat_minor": 0
}
