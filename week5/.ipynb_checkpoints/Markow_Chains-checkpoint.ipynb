{
 "cells": [
  {
   "cell_type": "markdown",
   "metadata": {},
   "source": [
    "# Markow Chains with sales data."
   ]
  },
  {
   "cell_type": "markdown",
   "metadata": {},
   "source": [
    "## Customer Segmentation."
   ]
  },
  {
   "cell_type": "markdown",
   "metadata": {},
   "source": [
    "### Load data."
   ]
  },
  {
   "cell_type": "code",
   "execution_count": 1,
   "metadata": {
    "collapsed": true
   },
   "outputs": [],
   "source": [
    "data = read.delim(file = 'purchases.txt', header = FALSE, sep = '\\t', dec = '.')"
   ]
  },
  {
   "cell_type": "markdown",
   "metadata": {},
   "source": [
    "## Adding headers, set last column as a date and extract year of purchase."
   ]
  },
  {
   "cell_type": "code",
   "execution_count": 2,
   "metadata": {
    "collapsed": true
   },
   "outputs": [],
   "source": [
    "colnames(data) = c('customer_id', 'purchase_amount', 'date_of_purchase')\n",
    "data$date_of_purchase = as.Date(data$date_of_purchase, \"%Y-%m-%d\")\n",
    "data$year_of_purchase = as.numeric(format(data$date_of_purchase, \"%Y\"))\n",
    "data$days_since       = as.numeric(difftime(time1 = \"2016-01-01\",\n",
    "                                            time2 = data$date_of_purchase,\n",
    "                                            units = \"days\"))"
   ]
  },
  {
   "cell_type": "code",
   "execution_count": 8,
   "metadata": {
    "collapsed": false
   },
   "outputs": [
    {
     "data": {
      "text/html": [
       "<table>\n",
       "<thead><tr><th scope=col>customer_id</th><th scope=col>purchase_amount</th><th scope=col>date_of_purchase</th><th scope=col>year_of_purchase</th><th scope=col>days_since</th></tr></thead>\n",
       "<tbody>\n",
       "\t<tr><td> 760      </td><td> 25       </td><td>2009-11-06</td><td>2009      </td><td>2247.3333 </td></tr>\n",
       "\t<tr><td> 860      </td><td> 50       </td><td>2012-09-28</td><td>2012      </td><td>1190.3333 </td></tr>\n",
       "\t<tr><td>1200      </td><td>100       </td><td>2005-10-25</td><td>2005      </td><td>3720.3333 </td></tr>\n",
       "\t<tr><td>1420      </td><td> 50       </td><td>2009-07-09</td><td>2009      </td><td>2367.3333 </td></tr>\n",
       "\t<tr><td>1940      </td><td> 70       </td><td>2013-01-25</td><td>2013      </td><td>1071.3333 </td></tr>\n",
       "\t<tr><td>1960      </td><td> 40       </td><td>2013-10-29</td><td>2013      </td><td> 794.3333 </td></tr>\n",
       "</tbody>\n",
       "</table>\n"
      ],
      "text/latex": [
       "\\begin{tabular}{r|lllll}\n",
       " customer\\_id & purchase\\_amount & date\\_of\\_purchase & year\\_of\\_purchase & days\\_since\\\\\n",
       "\\hline\n",
       "\t  760       &  25        & 2009-11-06 & 2009       & 2247.3333 \\\\\n",
       "\t  860       &  50        & 2012-09-28 & 2012       & 1190.3333 \\\\\n",
       "\t 1200       & 100        & 2005-10-25 & 2005       & 3720.3333 \\\\\n",
       "\t 1420       &  50        & 2009-07-09 & 2009       & 2367.3333 \\\\\n",
       "\t 1940       &  70        & 2013-01-25 & 2013       & 1071.3333 \\\\\n",
       "\t 1960       &  40        & 2013-10-29 & 2013       &  794.3333 \\\\\n",
       "\\end{tabular}\n"
      ],
      "text/markdown": [
       "\n",
       "customer_id | purchase_amount | date_of_purchase | year_of_purchase | days_since | \n",
       "|---|---|---|---|---|---|\n",
       "|  760       |  25        | 2009-11-06 | 2009       | 2247.3333  | \n",
       "|  860       |  50        | 2012-09-28 | 2012       | 1190.3333  | \n",
       "| 1200       | 100        | 2005-10-25 | 2005       | 3720.3333  | \n",
       "| 1420       |  50        | 2009-07-09 | 2009       | 2367.3333  | \n",
       "| 1940       |  70        | 2013-01-25 | 2013       | 1071.3333  | \n",
       "| 1960       |  40        | 2013-10-29 | 2013       |  794.3333  | \n",
       "\n",
       "\n"
      ],
      "text/plain": [
       "  customer_id purchase_amount date_of_purchase year_of_purchase days_since\n",
       "1  760         25             2009-11-06       2009             2247.3333 \n",
       "2  860         50             2012-09-28       2012             1190.3333 \n",
       "3 1200        100             2005-10-25       2005             3720.3333 \n",
       "4 1420         50             2009-07-09       2009             2367.3333 \n",
       "5 1940         70             2013-01-25       2013             1071.3333 \n",
       "6 1960         40             2013-10-29       2013              794.3333 "
      ]
     },
     "metadata": {},
     "output_type": "display_data"
    }
   ],
   "source": [
    "head(data)"
   ]
  },
  {
   "cell_type": "markdown",
   "metadata": {},
   "source": [
    "### KPIs for customers in 2015."
   ]
  },
  {
   "cell_type": "code",
   "execution_count": 4,
   "metadata": {
    "collapsed": false
   },
   "outputs": [
    {
     "name": "stderr",
     "output_type": "stream",
     "text": [
      "\n",
      "Attaching package: ‘dplyr’\n",
      "\n",
      "The following objects are masked from ‘package:stats’:\n",
      "\n",
      "    filter, lag\n",
      "\n",
      "The following objects are masked from ‘package:base’:\n",
      "\n",
      "    intersect, setdiff, setequal, union\n",
      "\n"
     ]
    },
    {
     "data": {
      "text/html": [
       "<table>\n",
       "<thead><tr><th scope=col>customer_id</th><th scope=col>recency</th><th scope=col>first_purchase</th><th scope=col>frequency</th><th scope=col>amount</th></tr></thead>\n",
       "<tbody>\n",
       "\t<tr><td> 10      </td><td>3829.3333</td><td>3829.333 </td><td> 1       </td><td> 30.00000</td></tr>\n",
       "\t<tr><td> 80      </td><td> 343.3333</td><td>3751.333 </td><td> 7       </td><td> 71.42857</td></tr>\n",
       "\t<tr><td> 90      </td><td> 758.3333</td><td>3783.333 </td><td>10       </td><td>115.80000</td></tr>\n",
       "\t<tr><td>120      </td><td>1401.3333</td><td>1401.333 </td><td> 1       </td><td> 20.00000</td></tr>\n",
       "\t<tr><td>130      </td><td>2970.3333</td><td>3710.333 </td><td> 2       </td><td> 50.00000</td></tr>\n",
       "\t<tr><td>160      </td><td>2963.3333</td><td>3577.333 </td><td> 2       </td><td> 30.00000</td></tr>\n",
       "</tbody>\n",
       "</table>\n"
      ],
      "text/latex": [
       "\\begin{tabular}{r|lllll}\n",
       " customer\\_id & recency & first\\_purchase & frequency & amount\\\\\n",
       "\\hline\n",
       "\t  10       & 3829.3333 & 3829.333  &  1        &  30.00000\\\\\n",
       "\t  80       &  343.3333 & 3751.333  &  7        &  71.42857\\\\\n",
       "\t  90       &  758.3333 & 3783.333  & 10        & 115.80000\\\\\n",
       "\t 120       & 1401.3333 & 1401.333  &  1        &  20.00000\\\\\n",
       "\t 130       & 2970.3333 & 3710.333  &  2        &  50.00000\\\\\n",
       "\t 160       & 2963.3333 & 3577.333  &  2        &  30.00000\\\\\n",
       "\\end{tabular}\n"
      ],
      "text/markdown": [
       "\n",
       "customer_id | recency | first_purchase | frequency | amount | \n",
       "|---|---|---|---|---|---|\n",
       "|  10       | 3829.3333 | 3829.333  |  1        |  30.00000 | \n",
       "|  80       |  343.3333 | 3751.333  |  7        |  71.42857 | \n",
       "|  90       |  758.3333 | 3783.333  | 10        | 115.80000 | \n",
       "| 120       | 1401.3333 | 1401.333  |  1        |  20.00000 | \n",
       "| 130       | 2970.3333 | 3710.333  |  2        |  50.00000 | \n",
       "| 160       | 2963.3333 | 3577.333  |  2        |  30.00000 | \n",
       "\n",
       "\n"
      ],
      "text/plain": [
       "  customer_id recency   first_purchase frequency amount   \n",
       "1  10         3829.3333 3829.333        1         30.00000\n",
       "2  80          343.3333 3751.333        7         71.42857\n",
       "3  90          758.3333 3783.333       10        115.80000\n",
       "4 120         1401.3333 1401.333        1         20.00000\n",
       "5 130         2970.3333 3710.333        2         50.00000\n",
       "6 160         2963.3333 3577.333        2         30.00000"
      ]
     },
     "metadata": {},
     "output_type": "display_data"
    }
   ],
   "source": [
    "library(dplyr)\n",
    "\n",
    "customers_2015 <- data %>% group_by(customer_id) %>% \n",
    "                  summarize(   # creates new variables:\n",
    "                    recency = min(days_since),\n",
    "                    first_purchase = max(days_since),\n",
    "                    frequency = n(),\n",
    "                    amount = mean(purchase_amount)  ) \n",
    "\n",
    "head(customers_2015)"
   ]
  },
  {
   "cell_type": "markdown",
   "metadata": {},
   "source": [
    "### Segmenting customers in 2015."
   ]
  },
  {
   "cell_type": "markdown",
   "metadata": {},
   "source": [
    "#### These are the segments we define:\n",
    "\n",
    "* inactive.\n",
    "* cold.\n",
    "* warm: new warm, warm high value, warm low value.\n",
    "* active: new active, active high value, active low value."
   ]
  },
  {
   "cell_type": "code",
   "execution_count": 9,
   "metadata": {
    "collapsed": true
   },
   "outputs": [],
   "source": [
    "customers_2015$segment = \"NA\"\n",
    "customers_2015$segment[which(customers_2015$recency > 365*3)] = \"inactive\"\n",
    "customers_2015$segment[which(customers_2015$recency <= 365*3 & customers_2015$recency > 365*2)] = \"cold\"\n",
    "customers_2015$segment[which(customers_2015$recency <= 365*2 & customers_2015$recency > 365*1)] = \"warm\"\n",
    "customers_2015$segment[which(customers_2015$recency <= 365)] = \"active\"\n",
    "customers_2015$segment[which(customers_2015$segment == \"warm\" & customers_2015$first_purchase <= 365*2)] = \"new warm\"\n",
    "customers_2015$segment[which(customers_2015$segment == \"warm\" & customers_2015$amount < 100)] = \"warm low value\"\n",
    "customers_2015$segment[which(customers_2015$segment == \"warm\" & customers_2015$amount >= 100)] = \"warm high value\"\n",
    "customers_2015$segment[which(customers_2015$segment == \"active\" & customers_2015$first_purchase <= 365)] = \"new active\"\n",
    "customers_2015$segment[which(customers_2015$segment == \"active\" & customers_2015$amount < 100)] = \"active low value\"\n",
    "customers_2015$segment[which(customers_2015$segment == \"active\" & customers_2015$amount >= 100)] = \"active high value\""
   ]
  },
  {
   "cell_type": "markdown",
   "metadata": {},
   "source": [
    "#### Rearranging segments:"
   ]
  },
  {
   "cell_type": "code",
   "execution_count": 10,
   "metadata": {
    "collapsed": false
   },
   "outputs": [
    {
     "data": {
      "text/plain": [
       "\n",
       "         inactive              cold   warm high value    warm low value \n",
       "             9158              1903               119               901 \n",
       "         new warm active high value  active low value        new active \n",
       "              938               573              3313              1512 "
      ]
     },
     "metadata": {},
     "output_type": "display_data"
    }
   ],
   "source": [
    "customers_2015$segment <- factor(x = customers_2015$segment, \n",
    "                                levels = c(\"inactive\", \"cold\",\n",
    "                            \"warm high value\", \"warm low value\", \"new warm\",\n",
    "                            \"active high value\", \"active low value\", \"new active\"))\n",
    "\n",
    "table(customers_2015$segment)"
   ]
  },
  {
   "cell_type": "markdown",
   "metadata": {},
   "source": [
    "### KPIs for customers in 2014."
   ]
  },
  {
   "cell_type": "code",
   "execution_count": 11,
   "metadata": {
    "collapsed": true
   },
   "outputs": [],
   "source": [
    "customers_2014 <- data %>% filter(days_since > 365) %>%\n",
    "                  group_by(customer_id) %>% \n",
    "                  summarize(   # creates new variables:\n",
    "                    recency = min(days_since) - 365,\n",
    "                    first_purchase = max(days_since) - 365,\n",
    "                    frequency = n(),\n",
    "                    amount = mean(purchase_amount)  ) "
   ]
  },
  {
   "cell_type": "markdown",
   "metadata": {},
   "source": [
    "### We also segment customers in 2014."
   ]
  },
  {
   "cell_type": "code",
   "execution_count": 12,
   "metadata": {
    "collapsed": true
   },
   "outputs": [],
   "source": [
    "customers_2014$segment = \"NA\"\n",
    "customers_2014$segment[which(customers_2014$recency > 365*3)] = \"inactive\"\n",
    "customers_2014$segment[which(customers_2014$recency <= 365*3 & customers_2014$recency > 365*2)] = \"cold\"\n",
    "customers_2014$segment[which(customers_2014$recency <= 365*2 & customers_2014$recency > 365*1)] = \"warm\"\n",
    "customers_2014$segment[which(customers_2014$recency <= 365)] = \"active\"\n",
    "customers_2014$segment[which(customers_2014$segment == \"warm\" & customers_2014$first_purchase <= 365*2)] = \"new warm\"\n",
    "customers_2014$segment[which(customers_2014$segment == \"warm\" & customers_2014$amount < 100)] = \"warm low value\"\n",
    "customers_2014$segment[which(customers_2014$segment == \"warm\" & customers_2014$amount >= 100)] = \"warm high value\"\n",
    "customers_2014$segment[which(customers_2014$segment == \"active\" & customers_2014$first_purchase <= 365)] = \"new active\"\n",
    "customers_2014$segment[which(customers_2014$segment == \"active\" & customers_2014$amount < 100)] = \"active low value\"\n",
    "customers_2014$segment[which(customers_2014$segment == \"active\" & customers_2014$amount >= 100)] = \"active high value\""
   ]
  },
  {
   "cell_type": "markdown",
   "metadata": {},
   "source": [
    "#### Rearranging segments:"
   ]
  },
  {
   "cell_type": "code",
   "execution_count": 14,
   "metadata": {
    "collapsed": false
   },
   "outputs": [
    {
     "data": {
      "text/plain": [
       "\n",
       "         inactive              cold   warm high value    warm low value \n",
       "             7512              2153               111               956 \n",
       "         new warm active high value  active low value        new active \n",
       "             1250               475              3011              1437 "
      ]
     },
     "metadata": {},
     "output_type": "display_data"
    }
   ],
   "source": [
    "customers_2014$segment <- factor(x = customers_2014$segment, \n",
    "                                 levels = c(\"inactive\", \"cold\",\n",
    "                                  \"warm high value\", \"warm low value\", \"new warm\",\n",
    "                                  \"active high value\", \"active low value\", \"new active\"))\n",
    "table(customers_2014$segment)"
   ]
  },
  {
   "cell_type": "markdown",
   "metadata": {},
   "source": [
    "## Transition Matrix."
   ]
  },
  {
   "cell_type": "markdown",
   "metadata": {},
   "source": [
    "#### We merge the customers_2014 and customers_2015 dataset."
   ]
  },
  {
   "cell_type": "code",
   "execution_count": 15,
   "metadata": {
    "collapsed": false
   },
   "outputs": [
    {
     "data": {
      "text/html": [
       "<table>\n",
       "<thead><tr><th scope=col>customer_id</th><th scope=col>recency.x</th><th scope=col>first_purchase.x</th><th scope=col>frequency.x</th><th scope=col>amount.x</th><th scope=col>segment.x</th><th scope=col>recency.y</th><th scope=col>first_purchase.y</th><th scope=col>frequency.y</th><th scope=col>amount.y</th><th scope=col>segment.y</th></tr></thead>\n",
       "<tbody>\n",
       "\t<tr><td> 10             </td><td>3464.3333       </td><td>3464.333        </td><td> 1              </td><td> 30.0           </td><td>inactive        </td><td>3829.3333       </td><td>3829.333        </td><td> 1              </td><td> 30.00000       </td><td>inactive        </td></tr>\n",
       "\t<tr><td> 80             </td><td> 302.3333       </td><td>3386.333        </td><td> 6              </td><td> 70.0           </td><td>active low value</td><td> 343.3333       </td><td>3751.333        </td><td> 7              </td><td> 71.42857       </td><td>active low value</td></tr>\n",
       "\t<tr><td> 90             </td><td> 393.3333       </td><td>3418.333        </td><td>10              </td><td>115.8           </td><td>warm high value </td><td> 758.3333       </td><td>3783.333        </td><td>10              </td><td>115.80000       </td><td>cold            </td></tr>\n",
       "\t<tr><td>120             </td><td>1036.3333       </td><td>1036.333        </td><td> 1              </td><td> 20.0           </td><td>cold            </td><td>1401.3333       </td><td>1401.333        </td><td> 1              </td><td> 20.00000       </td><td>inactive        </td></tr>\n",
       "\t<tr><td>130             </td><td>2605.3333       </td><td>3345.333        </td><td> 2              </td><td> 50.0           </td><td>inactive        </td><td>2970.3333       </td><td>3710.333        </td><td> 2              </td><td> 50.00000       </td><td>inactive        </td></tr>\n",
       "\t<tr><td>160             </td><td>2598.3333       </td><td>3212.333        </td><td> 2              </td><td> 30.0           </td><td>inactive        </td><td>2963.3333       </td><td>3577.333        </td><td> 2              </td><td> 30.00000       </td><td>inactive        </td></tr>\n",
       "</tbody>\n",
       "</table>\n"
      ],
      "text/latex": [
       "\\begin{tabular}{r|lllllllllll}\n",
       " customer\\_id & recency.x & first\\_purchase.x & frequency.x & amount.x & segment.x & recency.y & first\\_purchase.y & frequency.y & amount.y & segment.y\\\\\n",
       "\\hline\n",
       "\t  10              & 3464.3333        & 3464.333         &  1               &  30.0            & inactive         & 3829.3333        & 3829.333         &  1               &  30.00000        & inactive        \\\\\n",
       "\t  80              &  302.3333        & 3386.333         &  6               &  70.0            & active low value &  343.3333        & 3751.333         &  7               &  71.42857        & active low value\\\\\n",
       "\t  90              &  393.3333        & 3418.333         & 10               & 115.8            & warm high value  &  758.3333        & 3783.333         & 10               & 115.80000        & cold            \\\\\n",
       "\t 120              & 1036.3333        & 1036.333         &  1               &  20.0            & cold             & 1401.3333        & 1401.333         &  1               &  20.00000        & inactive        \\\\\n",
       "\t 130              & 2605.3333        & 3345.333         &  2               &  50.0            & inactive         & 2970.3333        & 3710.333         &  2               &  50.00000        & inactive        \\\\\n",
       "\t 160              & 2598.3333        & 3212.333         &  2               &  30.0            & inactive         & 2963.3333        & 3577.333         &  2               &  30.00000        & inactive        \\\\\n",
       "\\end{tabular}\n"
      ],
      "text/markdown": [
       "\n",
       "customer_id | recency.x | first_purchase.x | frequency.x | amount.x | segment.x | recency.y | first_purchase.y | frequency.y | amount.y | segment.y | \n",
       "|---|---|---|---|---|---|\n",
       "|  10              | 3464.3333        | 3464.333         |  1               |  30.0            | inactive         | 3829.3333        | 3829.333         |  1               |  30.00000        | inactive         | \n",
       "|  80              |  302.3333        | 3386.333         |  6               |  70.0            | active low value |  343.3333        | 3751.333         |  7               |  71.42857        | active low value | \n",
       "|  90              |  393.3333        | 3418.333         | 10               | 115.8            | warm high value  |  758.3333        | 3783.333         | 10               | 115.80000        | cold             | \n",
       "| 120              | 1036.3333        | 1036.333         |  1               |  20.0            | cold             | 1401.3333        | 1401.333         |  1               |  20.00000        | inactive         | \n",
       "| 130              | 2605.3333        | 3345.333         |  2               |  50.0            | inactive         | 2970.3333        | 3710.333         |  2               |  50.00000        | inactive         | \n",
       "| 160              | 2598.3333        | 3212.333         |  2               |  30.0            | inactive         | 2963.3333        | 3577.333         |  2               |  30.00000        | inactive         | \n",
       "\n",
       "\n"
      ],
      "text/plain": [
       "  customer_id recency.x first_purchase.x frequency.x amount.x segment.x       \n",
       "1  10         3464.3333 3464.333          1           30.0    inactive        \n",
       "2  80          302.3333 3386.333          6           70.0    active low value\n",
       "3  90          393.3333 3418.333         10          115.8    warm high value \n",
       "4 120         1036.3333 1036.333          1           20.0    cold            \n",
       "5 130         2605.3333 3345.333          2           50.0    inactive        \n",
       "6 160         2598.3333 3212.333          2           30.0    inactive        \n",
       "  recency.y first_purchase.y frequency.y amount.y  segment.y       \n",
       "1 3829.3333 3829.333          1           30.00000 inactive        \n",
       "2  343.3333 3751.333          7           71.42857 active low value\n",
       "3  758.3333 3783.333         10          115.80000 cold            \n",
       "4 1401.3333 1401.333          1           20.00000 inactive        \n",
       "5 2970.3333 3710.333          2           50.00000 inactive        \n",
       "6 2963.3333 3577.333          2           30.00000 inactive        "
      ]
     },
     "metadata": {},
     "output_type": "display_data"
    }
   ],
   "source": [
    "new_data <- merge(x = customers_2014, y = customers_2015, by = \"customer_id\", all.x = TRUE)\n",
    "head(new_data)"
   ]
  },
  {
   "cell_type": "code",
   "execution_count": 16,
   "metadata": {
    "collapsed": false
   },
   "outputs": [
    {
     "data": {
      "text/plain": [
       "                   \n",
       "                    inactive cold warm high value warm low value new warm\n",
       "  inactive              7227    0               0              0        0\n",
       "  cold                  1931    0               0              0        0\n",
       "  warm high value          0   75               0              0        0\n",
       "  warm low value           0  689               0              0        0\n",
       "  new warm                 0 1139               0              0        0\n",
       "  active high value        0    0             119              0        0\n",
       "  active low value         0    0               0            901        0\n",
       "  new active               0    0               0              0      938\n",
       "                   \n",
       "                    active high value active low value new active\n",
       "  inactive                         35              250          0\n",
       "  cold                             22              200          0\n",
       "  warm high value                  35                1          0\n",
       "  warm low value                    1              266          0\n",
       "  new warm                         15               96          0\n",
       "  active high value               354                2          0\n",
       "  active low value                 22             2088          0\n",
       "  new active                       89              410          0"
      ]
     },
     "metadata": {},
     "output_type": "display_data"
    }
   ],
   "source": [
    "transition <- table(new_data$segment.x, new_data$segment.y)\n",
    "transition"
   ]
  },
  {
   "cell_type": "markdown",
   "metadata": {},
   "source": [
    "### We normalize the transition matrix."
   ]
  },
  {
   "cell_type": "code",
   "execution_count": 17,
   "metadata": {
    "collapsed": false
   },
   "outputs": [
    {
     "data": {
      "text/plain": [
       "                   \n",
       "                       inactive        cold warm high value warm low value\n",
       "  inactive          0.962060703 0.000000000     0.000000000    0.000000000\n",
       "  cold              0.896888063 0.000000000     0.000000000    0.000000000\n",
       "  warm high value   0.000000000 0.675675676     0.000000000    0.000000000\n",
       "  warm low value    0.000000000 0.720711297     0.000000000    0.000000000\n",
       "  new warm          0.000000000 0.911200000     0.000000000    0.000000000\n",
       "  active high value 0.000000000 0.000000000     0.250526316    0.000000000\n",
       "  active low value  0.000000000 0.000000000     0.000000000    0.299236134\n",
       "  new active        0.000000000 0.000000000     0.000000000    0.000000000\n",
       "                   \n",
       "                       new warm active high value active low value  new active\n",
       "  inactive          0.000000000       0.004659212      0.033280085 0.000000000\n",
       "  cold              0.000000000       0.010218300      0.092893637 0.000000000\n",
       "  warm high value   0.000000000       0.315315315      0.009009009 0.000000000\n",
       "  warm low value    0.000000000       0.001046025      0.278242678 0.000000000\n",
       "  new warm          0.000000000       0.012000000      0.076800000 0.000000000\n",
       "  active high value 0.000000000       0.745263158      0.004210526 0.000000000\n",
       "  active low value  0.000000000       0.007306543      0.693457323 0.000000000\n",
       "  new active        0.652748782       0.061934586      0.285316632 0.000000000"
      ]
     },
     "metadata": {},
     "output_type": "display_data"
    }
   ],
   "source": [
    "transition <- transition / rowSums(transition)   # the sum of each row equals to 1\n",
    "transition"
   ]
  },
  {
   "cell_type": "markdown",
   "metadata": {},
   "source": [
    "## Making Predictions with the Transition Matrix."
   ]
  },
  {
   "cell_type": "code",
   "execution_count": 18,
   "metadata": {
    "collapsed": false
   },
   "outputs": [
    {
     "data": {
      "text/html": [
       "<table>\n",
       "<thead><tr><th></th><th scope=col>2015</th><th scope=col>2016</th><th scope=col>2017</th><th scope=col>2018</th><th scope=col>2019</th><th scope=col>2020</th><th scope=col>2021</th><th scope=col>2022</th><th scope=col>2023</th><th scope=col>2024</th><th scope=col>2025</th></tr></thead>\n",
       "<tbody>\n",
       "\t<tr><th scope=row>inactive</th><td>9158</td><td>NA  </td><td>NA  </td><td>NA  </td><td>NA  </td><td>NA  </td><td>NA  </td><td>NA  </td><td>NA  </td><td>NA  </td><td>NA  </td></tr>\n",
       "\t<tr><th scope=row>cold</th><td>1903</td><td>NA  </td><td>NA  </td><td>NA  </td><td>NA  </td><td>NA  </td><td>NA  </td><td>NA  </td><td>NA  </td><td>NA  </td><td>NA  </td></tr>\n",
       "\t<tr><th scope=row>warm high value</th><td> 119</td><td>NA  </td><td>NA  </td><td>NA  </td><td>NA  </td><td>NA  </td><td>NA  </td><td>NA  </td><td>NA  </td><td>NA  </td><td>NA  </td></tr>\n",
       "\t<tr><th scope=row>warm low value</th><td> 901</td><td>NA  </td><td>NA  </td><td>NA  </td><td>NA  </td><td>NA  </td><td>NA  </td><td>NA  </td><td>NA  </td><td>NA  </td><td>NA  </td></tr>\n",
       "\t<tr><th scope=row>new warm</th><td> 938</td><td>NA  </td><td>NA  </td><td>NA  </td><td>NA  </td><td>NA  </td><td>NA  </td><td>NA  </td><td>NA  </td><td>NA  </td><td>NA  </td></tr>\n",
       "\t<tr><th scope=row>active high value</th><td> 573</td><td>NA  </td><td>NA  </td><td>NA  </td><td>NA  </td><td>NA  </td><td>NA  </td><td>NA  </td><td>NA  </td><td>NA  </td><td>NA  </td></tr>\n",
       "\t<tr><th scope=row>active low value</th><td>3313</td><td>NA  </td><td>NA  </td><td>NA  </td><td>NA  </td><td>NA  </td><td>NA  </td><td>NA  </td><td>NA  </td><td>NA  </td><td>NA  </td></tr>\n",
       "\t<tr><th scope=row>new active</th><td>1512</td><td>NA  </td><td>NA  </td><td>NA  </td><td>NA  </td><td>NA  </td><td>NA  </td><td>NA  </td><td>NA  </td><td>NA  </td><td>NA  </td></tr>\n",
       "</tbody>\n",
       "</table>\n"
      ],
      "text/latex": [
       "\\begin{tabular}{r|lllllllllll}\n",
       "  & 2015 & 2016 & 2017 & 2018 & 2019 & 2020 & 2021 & 2022 & 2023 & 2024 & 2025\\\\\n",
       "\\hline\n",
       "\tinactive & 9158 & NA   & NA   & NA   & NA   & NA   & NA   & NA   & NA   & NA   & NA  \\\\\n",
       "\tcold & 1903 & NA   & NA   & NA   & NA   & NA   & NA   & NA   & NA   & NA   & NA  \\\\\n",
       "\twarm high value &  119 & NA   & NA   & NA   & NA   & NA   & NA   & NA   & NA   & NA   & NA  \\\\\n",
       "\twarm low value &  901 & NA   & NA   & NA   & NA   & NA   & NA   & NA   & NA   & NA   & NA  \\\\\n",
       "\tnew warm &  938 & NA   & NA   & NA   & NA   & NA   & NA   & NA   & NA   & NA   & NA  \\\\\n",
       "\tactive high value &  573 & NA   & NA   & NA   & NA   & NA   & NA   & NA   & NA   & NA   & NA  \\\\\n",
       "\tactive low value & 3313 & NA   & NA   & NA   & NA   & NA   & NA   & NA   & NA   & NA   & NA  \\\\\n",
       "\tnew active & 1512 & NA   & NA   & NA   & NA   & NA   & NA   & NA   & NA   & NA   & NA  \\\\\n",
       "\\end{tabular}\n"
      ],
      "text/markdown": [
       "\n",
       "| <!--/--> | 2015 | 2016 | 2017 | 2018 | 2019 | 2020 | 2021 | 2022 | 2023 | 2024 | 2025 | \n",
       "|---|---|---|---|---|---|---|---|\n",
       "| inactive | 9158 | NA   | NA   | NA   | NA   | NA   | NA   | NA   | NA   | NA   | NA   | \n",
       "| cold | 1903 | NA   | NA   | NA   | NA   | NA   | NA   | NA   | NA   | NA   | NA   | \n",
       "| warm high value |  119 | NA   | NA   | NA   | NA   | NA   | NA   | NA   | NA   | NA   | NA   | \n",
       "| warm low value |  901 | NA   | NA   | NA   | NA   | NA   | NA   | NA   | NA   | NA   | NA   | \n",
       "| new warm |  938 | NA   | NA   | NA   | NA   | NA   | NA   | NA   | NA   | NA   | NA   | \n",
       "| active high value |  573 | NA   | NA   | NA   | NA   | NA   | NA   | NA   | NA   | NA   | NA   | \n",
       "| active low value | 3313 | NA   | NA   | NA   | NA   | NA   | NA   | NA   | NA   | NA   | NA   | \n",
       "| new active | 1512 | NA   | NA   | NA   | NA   | NA   | NA   | NA   | NA   | NA   | NA   | \n",
       "\n",
       "\n"
      ],
      "text/plain": [
       "                  2015 2016 2017 2018 2019 2020 2021 2022 2023 2024 2025\n",
       "inactive          9158 NA   NA   NA   NA   NA   NA   NA   NA   NA   NA  \n",
       "cold              1903 NA   NA   NA   NA   NA   NA   NA   NA   NA   NA  \n",
       "warm high value    119 NA   NA   NA   NA   NA   NA   NA   NA   NA   NA  \n",
       "warm low value     901 NA   NA   NA   NA   NA   NA   NA   NA   NA   NA  \n",
       "new warm           938 NA   NA   NA   NA   NA   NA   NA   NA   NA   NA  \n",
       "active high value  573 NA   NA   NA   NA   NA   NA   NA   NA   NA   NA  \n",
       "active low value  3313 NA   NA   NA   NA   NA   NA   NA   NA   NA   NA  \n",
       "new active        1512 NA   NA   NA   NA   NA   NA   NA   NA   NA   NA  "
      ]
     },
     "metadata": {},
     "output_type": "display_data"
    }
   ],
   "source": [
    "segments <- matrix(nrow = 8, ncol = 11)           # 8 segments ; 11 periods of 1 year\n",
    "segments[, 1] <- table(customers_2015$segment)\n",
    "colnames(segments) <- 2015:2025\n",
    "row.names(segments) <- levels(customers_2015$segment)\n",
    "segments"
   ]
  },
  {
   "cell_type": "markdown",
   "metadata": {},
   "source": [
    "### Let's calculate the segments per year."
   ]
  },
  {
   "cell_type": "code",
   "execution_count": 19,
   "metadata": {
    "collapsed": true
   },
   "outputs": [],
   "source": [
    "for (i in 2:11) {\n",
    "                segments[, i] = segments[, i-1] %*% transition   \n",
    "                 # %*% is the matrix multiplication operator\n",
    "                }"
   ]
  },
  {
   "cell_type": "markdown",
   "metadata": {},
   "source": [
    "#### A view of how segments evolve over time:"
   ]
  },
  {
   "cell_type": "code",
   "execution_count": 20,
   "metadata": {
    "collapsed": false
   },
   "outputs": [
    {
     "data": {
      "text/html": [
       "<table>\n",
       "<thead><tr><th></th><th scope=col>2015</th><th scope=col>2016</th><th scope=col>2017</th><th scope=col>2018</th><th scope=col>2019</th><th scope=col>2020</th><th scope=col>2021</th><th scope=col>2022</th><th scope=col>2023</th><th scope=col>2024</th><th scope=col>2025</th></tr></thead>\n",
       "<tbody>\n",
       "\t<tr><th scope=row>inactive</th><td>9158 </td><td>10517</td><td>11539</td><td>12636</td><td>12940</td><td>13186</td><td>13386</td><td>13542</td><td>13664</td><td>13759</td><td>13834</td></tr>\n",
       "\t<tr><th scope=row>cold</th><td>1903 </td><td> 1584</td><td> 1711</td><td>  874</td><td>  821</td><td>  782</td><td>  740</td><td>  709</td><td>  684</td><td>  665</td><td>  650</td></tr>\n",
       "\t<tr><th scope=row>warm high value</th><td> 119 </td><td>  144</td><td>  165</td><td>  160</td><td>  156</td><td>  152</td><td>  149</td><td>  146</td><td>  143</td><td>  141</td><td>  139</td></tr>\n",
       "\t<tr><th scope=row>warm low value</th><td> 901 </td><td>  991</td><td> 1058</td><td>  989</td><td>  938</td><td>  884</td><td>  844</td><td>  813</td><td>  789</td><td>  771</td><td>  756</td></tr>\n",
       "\t<tr><th scope=row>new warm</th><td> 938 </td><td>  987</td><td>    0</td><td>    0</td><td>    0</td><td>    0</td><td>    0</td><td>    0</td><td>    0</td><td>    0</td><td>    0</td></tr>\n",
       "\t<tr><th scope=row>active high value</th><td> 573 </td><td>  657</td><td>  639</td><td>  624</td><td>  607</td><td>  593</td><td>  581</td><td>  571</td><td>  562</td><td>  554</td><td>  547</td></tr>\n",
       "\t<tr><th scope=row>active low value</th><td>3313 </td><td> 3537</td><td> 3305</td><td> 3134</td><td> 2954</td><td> 2820</td><td> 2717</td><td> 2637</td><td> 2575</td><td> 2527</td><td> 2490</td></tr>\n",
       "\t<tr><th scope=row>new active</th><td>1512 </td><td>    0</td><td>    0</td><td>    0</td><td>    0</td><td>    0</td><td>    0</td><td>    0</td><td>    0</td><td>    0</td><td>    0</td></tr>\n",
       "</tbody>\n",
       "</table>\n"
      ],
      "text/latex": [
       "\\begin{tabular}{r|lllllllllll}\n",
       "  & 2015 & 2016 & 2017 & 2018 & 2019 & 2020 & 2021 & 2022 & 2023 & 2024 & 2025\\\\\n",
       "\\hline\n",
       "\tinactive & 9158  & 10517 & 11539 & 12636 & 12940 & 13186 & 13386 & 13542 & 13664 & 13759 & 13834\\\\\n",
       "\tcold & 1903  &  1584 &  1711 &   874 &   821 &   782 &   740 &   709 &   684 &   665 &   650\\\\\n",
       "\twarm high value &  119  &   144 &   165 &   160 &   156 &   152 &   149 &   146 &   143 &   141 &   139\\\\\n",
       "\twarm low value &  901  &   991 &  1058 &   989 &   938 &   884 &   844 &   813 &   789 &   771 &   756\\\\\n",
       "\tnew warm &  938  &   987 &     0 &     0 &     0 &     0 &     0 &     0 &     0 &     0 &     0\\\\\n",
       "\tactive high value &  573  &   657 &   639 &   624 &   607 &   593 &   581 &   571 &   562 &   554 &   547\\\\\n",
       "\tactive low value & 3313  &  3537 &  3305 &  3134 &  2954 &  2820 &  2717 &  2637 &  2575 &  2527 &  2490\\\\\n",
       "\tnew active & 1512  &     0 &     0 &     0 &     0 &     0 &     0 &     0 &     0 &     0 &     0\\\\\n",
       "\\end{tabular}\n"
      ],
      "text/markdown": [
       "\n",
       "| <!--/--> | 2015 | 2016 | 2017 | 2018 | 2019 | 2020 | 2021 | 2022 | 2023 | 2024 | 2025 | \n",
       "|---|---|---|---|---|---|---|---|\n",
       "| inactive | 9158  | 10517 | 11539 | 12636 | 12940 | 13186 | 13386 | 13542 | 13664 | 13759 | 13834 | \n",
       "| cold | 1903  |  1584 |  1711 |   874 |   821 |   782 |   740 |   709 |   684 |   665 |   650 | \n",
       "| warm high value |  119  |   144 |   165 |   160 |   156 |   152 |   149 |   146 |   143 |   141 |   139 | \n",
       "| warm low value |  901  |   991 |  1058 |   989 |   938 |   884 |   844 |   813 |   789 |   771 |   756 | \n",
       "| new warm |  938  |   987 |     0 |     0 |     0 |     0 |     0 |     0 |     0 |     0 |     0 | \n",
       "| active high value |  573  |   657 |   639 |   624 |   607 |   593 |   581 |   571 |   562 |   554 |   547 | \n",
       "| active low value | 3313  |  3537 |  3305 |  3134 |  2954 |  2820 |  2717 |  2637 |  2575 |  2527 |  2490 | \n",
       "| new active | 1512  |     0 |     0 |     0 |     0 |     0 |     0 |     0 |     0 |     0 |     0 | \n",
       "\n",
       "\n"
      ],
      "text/plain": [
       "                  2015 2016  2017  2018  2019  2020  2021  2022  2023  2024 \n",
       "inactive          9158 10517 11539 12636 12940 13186 13386 13542 13664 13759\n",
       "cold              1903  1584  1711   874   821   782   740   709   684   665\n",
       "warm high value    119   144   165   160   156   152   149   146   143   141\n",
       "warm low value     901   991  1058   989   938   884   844   813   789   771\n",
       "new warm           938   987     0     0     0     0     0     0     0     0\n",
       "active high value  573   657   639   624   607   593   581   571   562   554\n",
       "active low value  3313  3537  3305  3134  2954  2820  2717  2637  2575  2527\n",
       "new active        1512     0     0     0     0     0     0     0     0     0\n",
       "                  2025 \n",
       "inactive          13834\n",
       "cold                650\n",
       "warm high value     139\n",
       "warm low value      756\n",
       "new warm              0\n",
       "active high value   547\n",
       "active low value   2490\n",
       "new active            0"
      ]
     },
     "metadata": {},
     "output_type": "display_data"
    }
   ],
   "source": [
    "round(segments)"
   ]
  },
  {
   "cell_type": "markdown",
   "metadata": {},
   "source": [
    "### Plot of cold customers."
   ]
  },
  {
   "cell_type": "code",
   "execution_count": 21,
   "metadata": {
    "collapsed": false
   },
   "outputs": [
    {
     "data": {
      "image/png": "[encoded data removed]",
      "text/plain": [
       "plot without title"
      ]
     },
     "metadata": {},
     "output_type": "display_data"
    }
   ],
   "source": [
    "barplot(segments[1, ])"
   ]
  },
  {
   "cell_type": "markdown",
   "metadata": {},
   "source": [
    "### Plot of inactive customers."
   ]
  },
  {
   "cell_type": "code",
   "execution_count": 22,
   "metadata": {
    "collapsed": false
   },
   "outputs": [
    {
     "data": {
      "image/png": "[encoded data removed]",
      "text/plain": [
       "plot without title"
      ]
     },
     "metadata": {},
     "output_type": "display_data"
    }
   ],
   "source": [
    "barplot(segments[2, ])"
   ]
  },
  {
   "cell_type": "markdown",
   "metadata": {},
   "source": [
    "## LTV of customers."
   ]
  },
  {
   "cell_type": "markdown",
   "metadata": {},
   "source": [
    "### Revenue for customers in 2015:"
   ]
  },
  {
   "cell_type": "code",
   "execution_count": 23,
   "metadata": {
    "collapsed": true
   },
   "outputs": [],
   "source": [
    "revenue_2015 <- data %>% filter(year_of_purchase == 2015) %>% \n",
    "                group_by(customer_id) %>% \n",
    "                summarize(revenue_2015 = sum(purchase_amount)) \n",
    "                # creates a new variable: the sum of purchase amount in 2015\n",
    "\n",
    "# then merge 2015 customers and 2015 revenue\n",
    "actual <- merge(customers_2015, revenue_2015, all.x = TRUE)\n",
    "actual$revenue_2015[is.na(actual$revenue_2015)] <- 0"
   ]
  },
  {
   "cell_type": "markdown",
   "metadata": {},
   "source": [
    "#### Revenue per customer in each segment."
   ]
  },
  {
   "cell_type": "code",
   "execution_count": 25,
   "metadata": {
    "collapsed": false
   },
   "outputs": [
    {
     "data": {
      "text/html": [
       "<table>\n",
       "<thead><tr><th scope=col>Group.1</th><th scope=col>x</th></tr></thead>\n",
       "<tbody>\n",
       "\t<tr><td>inactive         </td><td>  0.00000        </td></tr>\n",
       "\t<tr><td>cold             </td><td>  0.00000        </td></tr>\n",
       "\t<tr><td>warm high value  </td><td>  0.00000        </td></tr>\n",
       "\t<tr><td>warm low value   </td><td>  0.00000        </td></tr>\n",
       "\t<tr><td>new warm         </td><td>  0.00000        </td></tr>\n",
       "\t<tr><td>active high value</td><td>323.56894        </td></tr>\n",
       "\t<tr><td>active low value </td><td> 52.30604        </td></tr>\n",
       "\t<tr><td>new active       </td><td> 79.16614        </td></tr>\n",
       "</tbody>\n",
       "</table>\n"
      ],
      "text/latex": [
       "\\begin{tabular}{r|ll}\n",
       " Group.1 & x\\\\\n",
       "\\hline\n",
       "\t inactive          &   0.00000        \\\\\n",
       "\t cold              &   0.00000        \\\\\n",
       "\t warm high value   &   0.00000        \\\\\n",
       "\t warm low value    &   0.00000        \\\\\n",
       "\t new warm          &   0.00000        \\\\\n",
       "\t active high value & 323.56894        \\\\\n",
       "\t active low value  &  52.30604        \\\\\n",
       "\t new active        &  79.16614        \\\\\n",
       "\\end{tabular}\n"
      ],
      "text/markdown": [
       "\n",
       "Group.1 | x | \n",
       "|---|---|---|---|---|---|---|---|\n",
       "| inactive          |   0.00000         | \n",
       "| cold              |   0.00000         | \n",
       "| warm high value   |   0.00000         | \n",
       "| warm low value    |   0.00000         | \n",
       "| new warm          |   0.00000         | \n",
       "| active high value | 323.56894         | \n",
       "| active low value  |  52.30604         | \n",
       "| new active        |  79.16614         | \n",
       "\n",
       "\n"
      ],
      "text/plain": [
       "  Group.1           x        \n",
       "1 inactive            0.00000\n",
       "2 cold                0.00000\n",
       "3 warm high value     0.00000\n",
       "4 warm low value      0.00000\n",
       "5 new warm            0.00000\n",
       "6 active high value 323.56894\n",
       "7 active low value   52.30604\n",
       "8 new active         79.16614"
      ]
     },
     "metadata": {},
     "output_type": "display_data"
    }
   ],
   "source": [
    "revenue_segment <- aggregate(x = actual$revenue_2015, by = list(customers_2015$segment), mean)\n",
    "revenue_segment"
   ]
  },
  {
   "cell_type": "code",
   "execution_count": 26,
   "metadata": {
    "collapsed": false
   },
   "outputs": [
    {
     "data": {
      "text/html": [
       "<ol class=list-inline>\n",
       "\t<li>0</li>\n",
       "\t<li>0</li>\n",
       "\t<li>0</li>\n",
       "\t<li>0</li>\n",
       "\t<li>0</li>\n",
       "\t<li>323.568935427574</li>\n",
       "\t<li>52.3060428614549</li>\n",
       "\t<li>79.1661441798942</li>\n",
       "</ol>\n"
      ],
      "text/latex": [
       "\\begin{enumerate*}\n",
       "\\item 0\n",
       "\\item 0\n",
       "\\item 0\n",
       "\\item 0\n",
       "\\item 0\n",
       "\\item 323.568935427574\n",
       "\\item 52.3060428614549\n",
       "\\item 79.1661441798942\n",
       "\\end{enumerate*}\n"
      ],
      "text/markdown": [
       "1. 0\n",
       "2. 0\n",
       "3. 0\n",
       "4. 0\n",
       "5. 0\n",
       "6. 323.568935427574\n",
       "7. 52.3060428614549\n",
       "8. 79.1661441798942\n",
       "\n",
       "\n"
      ],
      "text/plain": [
       "[1]   0.00000   0.00000   0.00000   0.00000   0.00000 323.56894  52.30604\n",
       "[8]  79.16614"
      ]
     },
     "metadata": {},
     "output_type": "display_data"
    }
   ],
   "source": [
    "yearly_revenue <- revenue_segment$x\n",
    "yearly_revenue"
   ]
  },
  {
   "cell_type": "markdown",
   "metadata": {},
   "source": [
    "#### Revenue per segment."
   ]
  },
  {
   "cell_type": "code",
   "execution_count": 27,
   "metadata": {
    "collapsed": false
   },
   "outputs": [
    {
     "data": {
      "text/html": [
       "<table>\n",
       "<thead><tr><th></th><th scope=col>2015</th><th scope=col>2016</th><th scope=col>2017</th><th scope=col>2018</th><th scope=col>2019</th><th scope=col>2020</th><th scope=col>2021</th><th scope=col>2022</th><th scope=col>2023</th><th scope=col>2024</th><th scope=col>2025</th></tr></thead>\n",
       "<tbody>\n",
       "\t<tr><th scope=row>inactive</th><td>     0.0</td><td>     0.0</td><td>     0.0</td><td>     0.0</td><td>     0.0</td><td>     0.0</td><td>     0.0</td><td>     0.0</td><td>     0.0</td><td>     0.0</td><td>     0.0</td></tr>\n",
       "\t<tr><th scope=row>cold</th><td>     0.0</td><td>     0.0</td><td>     0.0</td><td>     0.0</td><td>     0.0</td><td>     0.0</td><td>     0.0</td><td>     0.0</td><td>     0.0</td><td>     0.0</td><td>     0.0</td></tr>\n",
       "\t<tr><th scope=row>warm high value</th><td>     0.0</td><td>     0.0</td><td>     0.0</td><td>     0.0</td><td>     0.0</td><td>     0.0</td><td>     0.0</td><td>     0.0</td><td>     0.0</td><td>     0.0</td><td>     0.0</td></tr>\n",
       "\t<tr><th scope=row>warm low value</th><td>     0.0</td><td>     0.0</td><td>     0.0</td><td>     0.0</td><td>     0.0</td><td>     0.0</td><td>     0.0</td><td>     0.0</td><td>     0.0</td><td>     0.0</td><td>     0.0</td></tr>\n",
       "\t<tr><th scope=row>new warm</th><td>     0.0</td><td>     0.0</td><td>     0.0</td><td>     0.0</td><td>     0.0</td><td>     0.0</td><td>     0.0</td><td>     0.0</td><td>     0.0</td><td>     0.0</td><td>     0.0</td></tr>\n",
       "\t<tr><th scope=row>active high value</th><td>185405.0</td><td>212495.1</td><td>206634.1</td><td>202008.5</td><td>196555.0</td><td>191967.1</td><td>188022.1</td><td>184626.9</td><td>181716.8</td><td>179228.5</td><td>177105.5</td></tr>\n",
       "\t<tr><th scope=row>active low value</th><td>173289.9</td><td>184985.5</td><td>172891.5</td><td>163912.8</td><td>154516.6</td><td>147520.4</td><td>142116.9</td><td>137930.2</td><td>134692.5</td><td>132189.2</td><td>130254.5</td></tr>\n",
       "\t<tr><th scope=row>new active</th><td>119699.2</td><td>     0.0</td><td>     0.0</td><td>     0.0</td><td>     0.0</td><td>     0.0</td><td>     0.0</td><td>     0.0</td><td>     0.0</td><td>     0.0</td><td>     0.0</td></tr>\n",
       "</tbody>\n",
       "</table>\n"
      ],
      "text/latex": [
       "\\begin{tabular}{r|lllllllllll}\n",
       "  & 2015 & 2016 & 2017 & 2018 & 2019 & 2020 & 2021 & 2022 & 2023 & 2024 & 2025\\\\\n",
       "\\hline\n",
       "\tinactive &      0.0 &      0.0 &      0.0 &      0.0 &      0.0 &      0.0 &      0.0 &      0.0 &      0.0 &      0.0 &      0.0\\\\\n",
       "\tcold &      0.0 &      0.0 &      0.0 &      0.0 &      0.0 &      0.0 &      0.0 &      0.0 &      0.0 &      0.0 &      0.0\\\\\n",
       "\twarm high value &      0.0 &      0.0 &      0.0 &      0.0 &      0.0 &      0.0 &      0.0 &      0.0 &      0.0 &      0.0 &      0.0\\\\\n",
       "\twarm low value &      0.0 &      0.0 &      0.0 &      0.0 &      0.0 &      0.0 &      0.0 &      0.0 &      0.0 &      0.0 &      0.0\\\\\n",
       "\tnew warm &      0.0 &      0.0 &      0.0 &      0.0 &      0.0 &      0.0 &      0.0 &      0.0 &      0.0 &      0.0 &      0.0\\\\\n",
       "\tactive high value & 185405.0 & 212495.1 & 206634.1 & 202008.5 & 196555.0 & 191967.1 & 188022.1 & 184626.9 & 181716.8 & 179228.5 & 177105.5\\\\\n",
       "\tactive low value & 173289.9 & 184985.5 & 172891.5 & 163912.8 & 154516.6 & 147520.4 & 142116.9 & 137930.2 & 134692.5 & 132189.2 & 130254.5\\\\\n",
       "\tnew active & 119699.2 &      0.0 &      0.0 &      0.0 &      0.0 &      0.0 &      0.0 &      0.0 &      0.0 &      0.0 &      0.0\\\\\n",
       "\\end{tabular}\n"
      ],
      "text/markdown": [
       "\n",
       "| <!--/--> | 2015 | 2016 | 2017 | 2018 | 2019 | 2020 | 2021 | 2022 | 2023 | 2024 | 2025 | \n",
       "|---|---|---|---|---|---|---|---|\n",
       "| inactive |      0.0 |      0.0 |      0.0 |      0.0 |      0.0 |      0.0 |      0.0 |      0.0 |      0.0 |      0.0 |      0.0 | \n",
       "| cold |      0.0 |      0.0 |      0.0 |      0.0 |      0.0 |      0.0 |      0.0 |      0.0 |      0.0 |      0.0 |      0.0 | \n",
       "| warm high value |      0.0 |      0.0 |      0.0 |      0.0 |      0.0 |      0.0 |      0.0 |      0.0 |      0.0 |      0.0 |      0.0 | \n",
       "| warm low value |      0.0 |      0.0 |      0.0 |      0.0 |      0.0 |      0.0 |      0.0 |      0.0 |      0.0 |      0.0 |      0.0 | \n",
       "| new warm |      0.0 |      0.0 |      0.0 |      0.0 |      0.0 |      0.0 |      0.0 |      0.0 |      0.0 |      0.0 |      0.0 | \n",
       "| active high value | 185405.0 | 212495.1 | 206634.1 | 202008.5 | 196555.0 | 191967.1 | 188022.1 | 184626.9 | 181716.8 | 179228.5 | 177105.5 | \n",
       "| active low value | 173289.9 | 184985.5 | 172891.5 | 163912.8 | 154516.6 | 147520.4 | 142116.9 | 137930.2 | 134692.5 | 132189.2 | 130254.5 | \n",
       "| new active | 119699.2 |      0.0 |      0.0 |      0.0 |      0.0 |      0.0 |      0.0 |      0.0 |      0.0 |      0.0 |      0.0 | \n",
       "\n",
       "\n"
      ],
      "text/plain": [
       "                  2015     2016     2017     2018     2019     2020    \n",
       "inactive               0.0      0.0      0.0      0.0      0.0      0.0\n",
       "cold                   0.0      0.0      0.0      0.0      0.0      0.0\n",
       "warm high value        0.0      0.0      0.0      0.0      0.0      0.0\n",
       "warm low value         0.0      0.0      0.0      0.0      0.0      0.0\n",
       "new warm               0.0      0.0      0.0      0.0      0.0      0.0\n",
       "active high value 185405.0 212495.1 206634.1 202008.5 196555.0 191967.1\n",
       "active low value  173289.9 184985.5 172891.5 163912.8 154516.6 147520.4\n",
       "new active        119699.2      0.0      0.0      0.0      0.0      0.0\n",
       "                  2021     2022     2023     2024     2025    \n",
       "inactive               0.0      0.0      0.0      0.0      0.0\n",
       "cold                   0.0      0.0      0.0      0.0      0.0\n",
       "warm high value        0.0      0.0      0.0      0.0      0.0\n",
       "warm low value         0.0      0.0      0.0      0.0      0.0\n",
       "new warm               0.0      0.0      0.0      0.0      0.0\n",
       "active high value 188022.1 184626.9 181716.8 179228.5 177105.5\n",
       "active low value  142116.9 137930.2 134692.5 132189.2 130254.5\n",
       "new active             0.0      0.0      0.0      0.0      0.0"
      ]
     },
     "metadata": {},
     "output_type": "display_data"
    }
   ],
   "source": [
    "revenue_per_segment <- segments * yearly_revenue    # element-wise multiplication\n",
    "revenue_per_segment"
   ]
  },
  {
   "cell_type": "markdown",
   "metadata": {},
   "source": [
    "#### Total Yearly Revenue."
   ]
  },
  {
   "cell_type": "code",
   "execution_count": 29,
   "metadata": {
    "collapsed": false
   },
   "outputs": [
    {
     "data": {
      "text/html": [
       "<dl class=dl-horizontal>\n",
       "\t<dt>2015</dt>\n",
       "\t\t<dd>478394</dd>\n",
       "\t<dt>2016</dt>\n",
       "\t\t<dd>397481</dd>\n",
       "\t<dt>2017</dt>\n",
       "\t\t<dd>379526</dd>\n",
       "\t<dt>2018</dt>\n",
       "\t\t<dd>365921</dd>\n",
       "\t<dt>2019</dt>\n",
       "\t\t<dd>351072</dd>\n",
       "\t<dt>2020</dt>\n",
       "\t\t<dd>339488</dd>\n",
       "\t<dt>2021</dt>\n",
       "\t\t<dd>330139</dd>\n",
       "\t<dt>2022</dt>\n",
       "\t\t<dd>322557</dd>\n",
       "\t<dt>2023</dt>\n",
       "\t\t<dd>316409</dd>\n",
       "\t<dt>2024</dt>\n",
       "\t\t<dd>311418</dd>\n",
       "\t<dt>2025</dt>\n",
       "\t\t<dd>307360</dd>\n",
       "</dl>\n"
      ],
      "text/latex": [
       "\\begin{description*}\n",
       "\\item[2015] 478394\n",
       "\\item[2016] 397481\n",
       "\\item[2017] 379526\n",
       "\\item[2018] 365921\n",
       "\\item[2019] 351072\n",
       "\\item[2020] 339488\n",
       "\\item[2021] 330139\n",
       "\\item[2022] 322557\n",
       "\\item[2023] 316409\n",
       "\\item[2024] 311418\n",
       "\\item[2025] 307360\n",
       "\\end{description*}\n"
      ],
      "text/markdown": [
       "2015\n",
       ":   4783942016\n",
       ":   3974812017\n",
       ":   3795262018\n",
       ":   3659212019\n",
       ":   3510722020\n",
       ":   3394882021\n",
       ":   3301392022\n",
       ":   3225572023\n",
       ":   3164092024\n",
       ":   3114182025\n",
       ":   307360\n",
       "\n"
      ],
      "text/plain": [
       "  2015   2016   2017   2018   2019   2020   2021   2022   2023   2024   2025 \n",
       "478394 397481 379526 365921 351072 339488 330139 322557 316409 311418 307360 "
      ]
     },
     "metadata": {},
     "output_type": "display_data"
    }
   ],
   "source": [
    "yearly_revenue <- colSums(revenue_per_segment)\n",
    "round(yearly_revenue)"
   ]
  },
  {
   "cell_type": "code",
   "execution_count": 30,
   "metadata": {
    "collapsed": false
   },
   "outputs": [
    {
     "data": {
      "image/png": "[encoded data removed]",
      "text/plain": [
       "plot without title"
      ]
     },
     "metadata": {},
     "output_type": "display_data"
    }
   ],
   "source": [
    "barplot(yearly_revenue)"
   ]
  },
  {
   "cell_type": "markdown",
   "metadata": {},
   "source": [
    "#### Using a discount factor of 10%."
   ]
  },
  {
   "cell_type": "code",
   "execution_count": 31,
   "metadata": {
    "collapsed": false
   },
   "outputs": [
    {
     "data": {
      "text/html": [
       "<ol class=list-inline>\n",
       "\t<li>1</li>\n",
       "\t<li>0.909090909090909</li>\n",
       "\t<li>0.826446280991735</li>\n",
       "\t<li>0.751314800901578</li>\n",
       "\t<li>0.683013455365071</li>\n",
       "\t<li>0.620921323059155</li>\n",
       "\t<li>0.564473930053777</li>\n",
       "\t<li>0.513158118230706</li>\n",
       "\t<li>0.466507380209733</li>\n",
       "\t<li>0.424097618372485</li>\n",
       "\t<li>0.385543289429531</li>\n",
       "</ol>\n"
      ],
      "text/latex": [
       "\\begin{enumerate*}\n",
       "\\item 1\n",
       "\\item 0.909090909090909\n",
       "\\item 0.826446280991735\n",
       "\\item 0.751314800901578\n",
       "\\item 0.683013455365071\n",
       "\\item 0.620921323059155\n",
       "\\item 0.564473930053777\n",
       "\\item 0.513158118230706\n",
       "\\item 0.466507380209733\n",
       "\\item 0.424097618372485\n",
       "\\item 0.385543289429531\n",
       "\\end{enumerate*}\n"
      ],
      "text/markdown": [
       "1. 1\n",
       "2. 0.909090909090909\n",
       "3. 0.826446280991735\n",
       "4. 0.751314800901578\n",
       "5. 0.683013455365071\n",
       "6. 0.620921323059155\n",
       "7. 0.564473930053777\n",
       "8. 0.513158118230706\n",
       "9. 0.466507380209733\n",
       "10. 0.424097618372485\n",
       "11. 0.385543289429531\n",
       "\n",
       "\n"
      ],
      "text/plain": [
       " [1] 1.0000000 0.9090909 0.8264463 0.7513148 0.6830135 0.6209213 0.5644739\n",
       " [8] 0.5131581 0.4665074 0.4240976 0.3855433"
      ]
     },
     "metadata": {},
     "output_type": "display_data"
    }
   ],
   "source": [
    "discount_rate <- 0.10\n",
    "discount <- 1 / ((1 + discount_rate) ^ ((1:11) - 1))\n",
    "discount"
   ]
  },
  {
   "cell_type": "code",
   "execution_count": null,
   "metadata": {
    "collapsed": true
   },
   "outputs": [],
   "source": []
  }
 ],
 "metadata": {
  "anaconda-cloud": {},
  "kernelspec": {
   "display_name": "R [my-r-env]",
   "language": "R",
   "name": "R [my-r-env]"
  },
  "language_info": {
   "codemirror_mode": "r",
   "file_extension": ".r",
   "mimetype": "text/x-r-source",
   "name": "R",
   "pygments_lexer": "r",
   "version": "3.3.2"
  }
 },
 "nbformat": 4,
 "nbformat_minor": 0
}
