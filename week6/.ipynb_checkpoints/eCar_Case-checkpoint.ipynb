{
 "cells": [
  {
   "cell_type": "code",
   "execution_count": 1,
   "metadata": {
    "collapsed": true
   },
   "outputs": [],
   "source": [
    "reset -fs"
   ]
  },
  {
   "cell_type": "code",
   "execution_count": 2,
   "metadata": {
    "collapsed": false
   },
   "outputs": [],
   "source": [
    "import pandas as pd\n",
    "import numpy as np"
   ]
  },
  {
   "cell_type": "code",
   "execution_count": 3,
   "metadata": {
    "collapsed": true
   },
   "outputs": [],
   "source": [
    "eCar_df = pd.read_csv('Nomis Solutions_Data Part I.csv')"
   ]
  },
  {
   "cell_type": "code",
   "execution_count": 4,
   "metadata": {
    "collapsed": false
   },
   "outputs": [
    {
     "data": {
      "text/html": [
       "<div>\n",
       "<table border=\"1\" class=\"dataframe\">\n",
       "  <thead>\n",
       "    <tr style=\"text-align: right;\">\n",
       "      <th></th>\n",
       "      <th>﻿Tier</th>\n",
       "      <th>FICO</th>\n",
       "      <th>Approve Date</th>\n",
       "      <th>Term</th>\n",
       "      <th>Amount</th>\n",
       "      <th>Previous Rate</th>\n",
       "      <th>Car  Type</th>\n",
       "      <th>Competition rate</th>\n",
       "      <th>Outcome</th>\n",
       "      <th>Rate</th>\n",
       "      <th>Cost of Funds</th>\n",
       "      <th>Partner Bin</th>\n",
       "    </tr>\n",
       "  </thead>\n",
       "  <tbody>\n",
       "    <tr>\n",
       "      <th>0</th>\n",
       "      <td>3.0</td>\n",
       "      <td>695.0</td>\n",
       "      <td>7/1/02</td>\n",
       "      <td>72.0</td>\n",
       "      <td>35000.0</td>\n",
       "      <td></td>\n",
       "      <td>N</td>\n",
       "      <td>6.25</td>\n",
       "      <td>0.0</td>\n",
       "      <td>7.49</td>\n",
       "      <td>1.8388</td>\n",
       "      <td>1.0</td>\n",
       "    </tr>\n",
       "    <tr>\n",
       "      <th>1</th>\n",
       "      <td>1.0</td>\n",
       "      <td>751.0</td>\n",
       "      <td>7/1/02</td>\n",
       "      <td>60.0</td>\n",
       "      <td>40000.0</td>\n",
       "      <td></td>\n",
       "      <td>N</td>\n",
       "      <td>5.65</td>\n",
       "      <td>0.0</td>\n",
       "      <td>5.49</td>\n",
       "      <td>1.8388</td>\n",
       "      <td>3.0</td>\n",
       "    </tr>\n",
       "    <tr>\n",
       "      <th>2</th>\n",
       "      <td>1.0</td>\n",
       "      <td>731.0</td>\n",
       "      <td>7/1/02</td>\n",
       "      <td>60.0</td>\n",
       "      <td>18064.0</td>\n",
       "      <td></td>\n",
       "      <td>N</td>\n",
       "      <td>5.65</td>\n",
       "      <td>0.0</td>\n",
       "      <td>5.49</td>\n",
       "      <td>1.8388</td>\n",
       "      <td>3.0</td>\n",
       "    </tr>\n",
       "    <tr>\n",
       "      <th>3</th>\n",
       "      <td>4.0</td>\n",
       "      <td>652.0</td>\n",
       "      <td>7/1/02</td>\n",
       "      <td>72.0</td>\n",
       "      <td>15415.0</td>\n",
       "      <td></td>\n",
       "      <td>N</td>\n",
       "      <td>6.25</td>\n",
       "      <td>0.0</td>\n",
       "      <td>8.99</td>\n",
       "      <td>1.8388</td>\n",
       "      <td>3.0</td>\n",
       "    </tr>\n",
       "    <tr>\n",
       "      <th>4</th>\n",
       "      <td>1.0</td>\n",
       "      <td>730.0</td>\n",
       "      <td>7/1/02</td>\n",
       "      <td>48.0</td>\n",
       "      <td>32000.0</td>\n",
       "      <td></td>\n",
       "      <td>N</td>\n",
       "      <td>5.65</td>\n",
       "      <td>0.0</td>\n",
       "      <td>5.49</td>\n",
       "      <td>1.8388</td>\n",
       "      <td>1.0</td>\n",
       "    </tr>\n",
       "  </tbody>\n",
       "</table>\n",
       "</div>"
      ],
      "text/plain": [
       "   ﻿Tier   FICO Approve Date  Term   Amount Previous Rate Car  Type  \\\n",
       "0    3.0  695.0       7/1/02  72.0  35000.0                       N   \n",
       "1    1.0  751.0       7/1/02  60.0  40000.0                       N   \n",
       "2    1.0  731.0       7/1/02  60.0  18064.0                       N   \n",
       "3    4.0  652.0       7/1/02  72.0  15415.0                       N   \n",
       "4    1.0  730.0       7/1/02  48.0  32000.0                       N   \n",
       "\n",
       "   Competition rate  Outcome  Rate  Cost of Funds  Partner Bin  \n",
       "0              6.25      0.0  7.49         1.8388          1.0  \n",
       "1              5.65      0.0  5.49         1.8388          3.0  \n",
       "2              5.65      0.0  5.49         1.8388          3.0  \n",
       "3              6.25      0.0  8.99         1.8388          3.0  \n",
       "4              5.65      0.0  5.49         1.8388          1.0  "
      ]
     },
     "execution_count": 4,
     "metadata": {},
     "output_type": "execute_result"
    }
   ],
   "source": [
    "eCar_df.head()"
   ]
  },
  {
   "cell_type": "code",
   "execution_count": 5,
   "metadata": {
    "collapsed": false
   },
   "outputs": [
    {
     "data": {
      "text/plain": [
       "(208088, 12)"
      ]
     },
     "execution_count": 5,
     "metadata": {},
     "output_type": "execute_result"
    }
   ],
   "source": [
    "eCar_df.shape"
   ]
  },
  {
   "cell_type": "code",
   "execution_count": 6,
   "metadata": {
    "collapsed": false
   },
   "outputs": [
    {
     "name": "stdout",
     "output_type": "stream",
     "text": [
      "<class 'pandas.core.frame.DataFrame'>\n",
      "RangeIndex: 208088 entries, 0 to 208087\n",
      "Data columns (total 12 columns):\n",
      "﻿Tier               208085 non-null float64\n",
      "FICO                208087 non-null float64\n",
      "Approve Date        208085 non-null object\n",
      "Term                208085 non-null float64\n",
      "Amount              208085 non-null float64\n",
      "Previous Rate       208077 non-null object\n",
      "Car  Type           208085 non-null object\n",
      "Competition rate    208085 non-null float64\n",
      "Outcome             208085 non-null float64\n",
      "Rate                208085 non-null float64\n",
      "Cost of Funds       208085 non-null float64\n",
      "Partner Bin         208085 non-null float64\n",
      "dtypes: float64(9), object(3)\n",
      "memory usage: 19.1+ MB\n"
     ]
    }
   ],
   "source": [
    "eCar_df.info()"
   ]
  },
  {
   "cell_type": "code",
   "execution_count": 7,
   "metadata": {
    "collapsed": false
   },
   "outputs": [
    {
     "data": {
      "text/plain": [
       "True"
      ]
     },
     "execution_count": 7,
     "metadata": {},
     "output_type": "execute_result"
    }
   ],
   "source": [
    "eCar_df.isnull().values.any()"
   ]
  },
  {
   "cell_type": "code",
   "execution_count": 8,
   "metadata": {
    "collapsed": false
   },
   "outputs": [
    {
     "data": {
      "text/plain": [
       "﻿Tier                3\n",
       "FICO                 1\n",
       "Approve Date         3\n",
       "Term                 3\n",
       "Amount               3\n",
       "Previous Rate       11\n",
       "Car  Type            3\n",
       "Competition rate     3\n",
       "Outcome              3\n",
       "Rate                 3\n",
       "Cost of Funds        3\n",
       "Partner Bin          3\n",
       "dtype: int64"
      ]
     },
     "execution_count": 8,
     "metadata": {},
     "output_type": "execute_result"
    }
   ],
   "source": [
    "pd.isnull(eCar_df).sum() "
   ]
  },
  {
   "cell_type": "code",
   "execution_count": 9,
   "metadata": {
    "collapsed": true
   },
   "outputs": [],
   "source": [
    "eCar_df.dropna(inplace=True)"
   ]
  },
  {
   "cell_type": "code",
   "execution_count": 10,
   "metadata": {
    "collapsed": false
   },
   "outputs": [
    {
     "name": "stdout",
     "output_type": "stream",
     "text": [
      "<class 'pandas.core.frame.DataFrame'>\n",
      "Int64Index: 208077 entries, 0 to 208078\n",
      "Data columns (total 12 columns):\n",
      "﻿Tier               208077 non-null float64\n",
      "FICO                208077 non-null float64\n",
      "Approve Date        208077 non-null object\n",
      "Term                208077 non-null float64\n",
      "Amount              208077 non-null float64\n",
      "Previous Rate       208077 non-null object\n",
      "Car  Type           208077 non-null object\n",
      "Competition rate    208077 non-null float64\n",
      "Outcome             208077 non-null float64\n",
      "Rate                208077 non-null float64\n",
      "Cost of Funds       208077 non-null float64\n",
      "Partner Bin         208077 non-null float64\n",
      "dtypes: float64(9), object(3)\n",
      "memory usage: 20.6+ MB\n"
     ]
    }
   ],
   "source": [
    "eCar_df.info()"
   ]
  },
  {
   "cell_type": "code",
   "execution_count": 11,
   "metadata": {
    "collapsed": false
   },
   "outputs": [
    {
     "data": {
      "text/plain": [
       "﻿Tier               0\n",
       "FICO                0\n",
       "Approve Date        0\n",
       "Term                0\n",
       "Amount              0\n",
       "Previous Rate       0\n",
       "Car  Type           0\n",
       "Competition rate    0\n",
       "Outcome             0\n",
       "Rate                0\n",
       "Cost of Funds       0\n",
       "Partner Bin         0\n",
       "dtype: int64"
      ]
     },
     "execution_count": 11,
     "metadata": {},
     "output_type": "execute_result"
    }
   ],
   "source": [
    "pd.isnull(eCar_df).sum() "
   ]
  },
  {
   "cell_type": "code",
   "execution_count": 12,
   "metadata": {
    "collapsed": true
   },
   "outputs": [],
   "source": [
    "#Have the user enter the cost of the loan, the interest rate, and\n",
    "#the number of years for the loan\n",
    "#Calculate monthly payments with the following formula\n",
    "# M = L[i(1+i)n] / [(1+i)n-1]\n",
    "# M = monthly payment\n",
    "# L = Loan amount\n",
    "# i = interest rate (for an interest rate of 5%, i = 0.05)\n",
    "# n = number of payments\n",
    "#________________________________________________________________________#\n",
    "#Start of program\n",
    "#Declare variables\n",
    "\n",
    "#def monthly_loan_payments(loan_amount,interest_rate,number_payments): \n",
    "#    monthly_payment = (loan_amount * (1 + interest_rate/100)**\n",
    "#(number_payments/12))/number_payments\n",
    "    #print(\"Your monthly payment will be \" + str(monthlypayment))\n",
    "#    return monthly_payment\n",
    "\n",
    "def monthly_loan_payment(row):\n",
    "    loan_amount = row['Amount']\n",
    "    interest_rate = row['Rate']\n",
    "    number_payments = row['Term']\n",
    "    monthly_payment = (loan_amount*(1+interest_rate/100)**(number_payments/12))/number_payments\n",
    "    return monthly_payment"
   ]
  },
  {
   "cell_type": "code",
   "execution_count": 13,
   "metadata": {
    "collapsed": false
   },
   "outputs": [],
   "source": [
    "eCar_df['monthly_payment'] = eCar_df.apply(monthly_loan_payment,axis=1)"
   ]
  },
  {
   "cell_type": "code",
   "execution_count": 14,
   "metadata": {
    "collapsed": false
   },
   "outputs": [
    {
     "data": {
      "text/html": [
       "<div>\n",
       "<table border=\"1\" class=\"dataframe\">\n",
       "  <thead>\n",
       "    <tr style=\"text-align: right;\">\n",
       "      <th></th>\n",
       "      <th>﻿Tier</th>\n",
       "      <th>FICO</th>\n",
       "      <th>Approve Date</th>\n",
       "      <th>Term</th>\n",
       "      <th>Amount</th>\n",
       "      <th>Previous Rate</th>\n",
       "      <th>Car  Type</th>\n",
       "      <th>Competition rate</th>\n",
       "      <th>Outcome</th>\n",
       "      <th>Rate</th>\n",
       "      <th>Cost of Funds</th>\n",
       "      <th>Partner Bin</th>\n",
       "      <th>monthly_payment</th>\n",
       "    </tr>\n",
       "  </thead>\n",
       "  <tbody>\n",
       "    <tr>\n",
       "      <th>0</th>\n",
       "      <td>3.0</td>\n",
       "      <td>695.0</td>\n",
       "      <td>7/1/02</td>\n",
       "      <td>72.0</td>\n",
       "      <td>35000.0</td>\n",
       "      <td></td>\n",
       "      <td>N</td>\n",
       "      <td>6.25</td>\n",
       "      <td>0.0</td>\n",
       "      <td>7.49</td>\n",
       "      <td>1.8388</td>\n",
       "      <td>1.0</td>\n",
       "      <td>749.797392</td>\n",
       "    </tr>\n",
       "    <tr>\n",
       "      <th>1</th>\n",
       "      <td>1.0</td>\n",
       "      <td>751.0</td>\n",
       "      <td>7/1/02</td>\n",
       "      <td>60.0</td>\n",
       "      <td>40000.0</td>\n",
       "      <td></td>\n",
       "      <td>N</td>\n",
       "      <td>5.65</td>\n",
       "      <td>0.0</td>\n",
       "      <td>5.49</td>\n",
       "      <td>1.8388</td>\n",
       "      <td>3.0</td>\n",
       "      <td>870.893808</td>\n",
       "    </tr>\n",
       "    <tr>\n",
       "      <th>2</th>\n",
       "      <td>1.0</td>\n",
       "      <td>731.0</td>\n",
       "      <td>7/1/02</td>\n",
       "      <td>60.0</td>\n",
       "      <td>18064.0</td>\n",
       "      <td></td>\n",
       "      <td>N</td>\n",
       "      <td>5.65</td>\n",
       "      <td>0.0</td>\n",
       "      <td>5.49</td>\n",
       "      <td>1.8388</td>\n",
       "      <td>3.0</td>\n",
       "      <td>393.295644</td>\n",
       "    </tr>\n",
       "    <tr>\n",
       "      <th>3</th>\n",
       "      <td>4.0</td>\n",
       "      <td>652.0</td>\n",
       "      <td>7/1/02</td>\n",
       "      <td>72.0</td>\n",
       "      <td>15415.0</td>\n",
       "      <td></td>\n",
       "      <td>N</td>\n",
       "      <td>6.25</td>\n",
       "      <td>0.0</td>\n",
       "      <td>8.99</td>\n",
       "      <td>1.8388</td>\n",
       "      <td>3.0</td>\n",
       "      <td>358.864871</td>\n",
       "    </tr>\n",
       "    <tr>\n",
       "      <th>4</th>\n",
       "      <td>1.0</td>\n",
       "      <td>730.0</td>\n",
       "      <td>7/1/02</td>\n",
       "      <td>48.0</td>\n",
       "      <td>32000.0</td>\n",
       "      <td></td>\n",
       "      <td>N</td>\n",
       "      <td>5.65</td>\n",
       "      <td>0.0</td>\n",
       "      <td>5.49</td>\n",
       "      <td>1.8388</td>\n",
       "      <td>1.0</td>\n",
       "      <td>825.570014</td>\n",
       "    </tr>\n",
       "  </tbody>\n",
       "</table>\n",
       "</div>"
      ],
      "text/plain": [
       "   ﻿Tier   FICO Approve Date  Term   Amount Previous Rate Car  Type  \\\n",
       "0    3.0  695.0       7/1/02  72.0  35000.0                       N   \n",
       "1    1.0  751.0       7/1/02  60.0  40000.0                       N   \n",
       "2    1.0  731.0       7/1/02  60.0  18064.0                       N   \n",
       "3    4.0  652.0       7/1/02  72.0  15415.0                       N   \n",
       "4    1.0  730.0       7/1/02  48.0  32000.0                       N   \n",
       "\n",
       "   Competition rate  Outcome  Rate  Cost of Funds  Partner Bin  \\\n",
       "0              6.25      0.0  7.49         1.8388          1.0   \n",
       "1              5.65      0.0  5.49         1.8388          3.0   \n",
       "2              5.65      0.0  5.49         1.8388          3.0   \n",
       "3              6.25      0.0  8.99         1.8388          3.0   \n",
       "4              5.65      0.0  5.49         1.8388          1.0   \n",
       "\n",
       "   monthly_payment  \n",
       "0       749.797392  \n",
       "1       870.893808  \n",
       "2       393.295644  \n",
       "3       358.864871  \n",
       "4       825.570014  "
      ]
     },
     "execution_count": 14,
     "metadata": {},
     "output_type": "execute_result"
    }
   ],
   "source": [
    "eCar_df.head()"
   ]
  },
  {
   "cell_type": "code",
   "execution_count": 15,
   "metadata": {
    "collapsed": true
   },
   "outputs": [],
   "source": [
    "def npv(row):\n",
    "    amount = row['Amount']\n",
    "    cost_funds = row['Cost of Funds']\n",
    "    m = row['monthly_payment']\n",
    "    term = row['Term']\n",
    "    \n",
    "    term = int(term)\n",
    "    #cash_flow = [m/(1+cost_funds)**n for n in range(1,term+1)]\n",
    "    \n",
    "    x = 1/(1+cost_funds)\n",
    "    net_prof_val = -amount +m*(x/(x - 1))*(x**term  - 1)\n",
    "    return net_prof_val"
   ]
  },
  {
   "cell_type": "code",
   "execution_count": 16,
   "metadata": {
    "collapsed": false
   },
   "outputs": [],
   "source": [
    "eCar_df['NPV'] = eCar_df.apply(npv,axis=1)"
   ]
  },
  {
   "cell_type": "code",
   "execution_count": 17,
   "metadata": {
    "collapsed": false
   },
   "outputs": [
    {
     "data": {
      "text/html": [
       "<div>\n",
       "<table border=\"1\" class=\"dataframe\">\n",
       "  <thead>\n",
       "    <tr style=\"text-align: right;\">\n",
       "      <th></th>\n",
       "      <th>﻿Tier</th>\n",
       "      <th>FICO</th>\n",
       "      <th>Approve Date</th>\n",
       "      <th>Term</th>\n",
       "      <th>Amount</th>\n",
       "      <th>Previous Rate</th>\n",
       "      <th>Car  Type</th>\n",
       "      <th>Competition rate</th>\n",
       "      <th>Outcome</th>\n",
       "      <th>Rate</th>\n",
       "      <th>Cost of Funds</th>\n",
       "      <th>Partner Bin</th>\n",
       "      <th>monthly_payment</th>\n",
       "      <th>NPV</th>\n",
       "    </tr>\n",
       "  </thead>\n",
       "  <tbody>\n",
       "    <tr>\n",
       "      <th>0</th>\n",
       "      <td>3.0</td>\n",
       "      <td>695.0</td>\n",
       "      <td>7/1/02</td>\n",
       "      <td>72.0</td>\n",
       "      <td>35000.0</td>\n",
       "      <td></td>\n",
       "      <td>N</td>\n",
       "      <td>6.25</td>\n",
       "      <td>0.0</td>\n",
       "      <td>7.49</td>\n",
       "      <td>1.8388</td>\n",
       "      <td>1.0</td>\n",
       "      <td>749.797392</td>\n",
       "      <td>-34592.235484</td>\n",
       "    </tr>\n",
       "    <tr>\n",
       "      <th>1</th>\n",
       "      <td>1.0</td>\n",
       "      <td>751.0</td>\n",
       "      <td>7/1/02</td>\n",
       "      <td>60.0</td>\n",
       "      <td>40000.0</td>\n",
       "      <td></td>\n",
       "      <td>N</td>\n",
       "      <td>5.65</td>\n",
       "      <td>0.0</td>\n",
       "      <td>5.49</td>\n",
       "      <td>1.8388</td>\n",
       "      <td>3.0</td>\n",
       "      <td>870.893808</td>\n",
       "      <td>-39526.379265</td>\n",
       "    </tr>\n",
       "    <tr>\n",
       "      <th>2</th>\n",
       "      <td>1.0</td>\n",
       "      <td>731.0</td>\n",
       "      <td>7/1/02</td>\n",
       "      <td>60.0</td>\n",
       "      <td>18064.0</td>\n",
       "      <td></td>\n",
       "      <td>N</td>\n",
       "      <td>5.65</td>\n",
       "      <td>0.0</td>\n",
       "      <td>5.49</td>\n",
       "      <td>1.8388</td>\n",
       "      <td>3.0</td>\n",
       "      <td>393.295644</td>\n",
       "      <td>-17850.112876</td>\n",
       "    </tr>\n",
       "    <tr>\n",
       "      <th>3</th>\n",
       "      <td>4.0</td>\n",
       "      <td>652.0</td>\n",
       "      <td>7/1/02</td>\n",
       "      <td>72.0</td>\n",
       "      <td>15415.0</td>\n",
       "      <td></td>\n",
       "      <td>N</td>\n",
       "      <td>6.25</td>\n",
       "      <td>0.0</td>\n",
       "      <td>8.99</td>\n",
       "      <td>1.8388</td>\n",
       "      <td>3.0</td>\n",
       "      <td>358.864871</td>\n",
       "      <td>-15219.837464</td>\n",
       "    </tr>\n",
       "    <tr>\n",
       "      <th>4</th>\n",
       "      <td>1.0</td>\n",
       "      <td>730.0</td>\n",
       "      <td>7/1/02</td>\n",
       "      <td>48.0</td>\n",
       "      <td>32000.0</td>\n",
       "      <td></td>\n",
       "      <td>N</td>\n",
       "      <td>5.65</td>\n",
       "      <td>0.0</td>\n",
       "      <td>5.49</td>\n",
       "      <td>1.8388</td>\n",
       "      <td>1.0</td>\n",
       "      <td>825.570014</td>\n",
       "      <td>-31551.027837</td>\n",
       "    </tr>\n",
       "  </tbody>\n",
       "</table>\n",
       "</div>"
      ],
      "text/plain": [
       "   ﻿Tier   FICO Approve Date  Term   Amount Previous Rate Car  Type  \\\n",
       "0    3.0  695.0       7/1/02  72.0  35000.0                       N   \n",
       "1    1.0  751.0       7/1/02  60.0  40000.0                       N   \n",
       "2    1.0  731.0       7/1/02  60.0  18064.0                       N   \n",
       "3    4.0  652.0       7/1/02  72.0  15415.0                       N   \n",
       "4    1.0  730.0       7/1/02  48.0  32000.0                       N   \n",
       "\n",
       "   Competition rate  Outcome  Rate  Cost of Funds  Partner Bin  \\\n",
       "0              6.25      0.0  7.49         1.8388          1.0   \n",
       "1              5.65      0.0  5.49         1.8388          3.0   \n",
       "2              5.65      0.0  5.49         1.8388          3.0   \n",
       "3              6.25      0.0  8.99         1.8388          3.0   \n",
       "4              5.65      0.0  5.49         1.8388          1.0   \n",
       "\n",
       "   monthly_payment           NPV  \n",
       "0       749.797392 -34592.235484  \n",
       "1       870.893808 -39526.379265  \n",
       "2       393.295644 -17850.112876  \n",
       "3       358.864871 -15219.837464  \n",
       "4       825.570014 -31551.027837  "
      ]
     },
     "execution_count": 17,
     "metadata": {},
     "output_type": "execute_result"
    }
   ],
   "source": [
    "eCar_df.head()"
   ]
  },
  {
   "cell_type": "code",
   "execution_count": 18,
   "metadata": {
    "collapsed": true
   },
   "outputs": [],
   "source": [
    "def monthly_loan_payment_complete(row):\n",
    "    loan_amount = row['Amount']\n",
    "    interest_rate = row['Competition rate']\n",
    "    number_payments = row['Term']\n",
    "    monthly_payment = (loan_amount*(1+interest_rate/100)**(number_payments/12))/number_payments\n",
    "    return monthly_payment"
   ]
  },
  {
   "cell_type": "code",
   "execution_count": 19,
   "metadata": {
    "collapsed": true
   },
   "outputs": [],
   "source": [
    "eCar_df['monthly_payment_complete'] = eCar_df.apply(monthly_loan_payment_complete,axis=1)"
   ]
  },
  {
   "cell_type": "code",
   "execution_count": 20,
   "metadata": {
    "collapsed": true
   },
   "outputs": [],
   "source": [
    "def npv_complete(row):\n",
    "    amount = row['Amount']\n",
    "    cost_funds = row['Cost of Funds']\n",
    "    m = row['monthly_payment_complete']\n",
    "    term = row['Term']\n",
    "    \n",
    "    term = int(term)\n",
    "    #cash_flow = [m/(1+cost_funds)**n for n in range(1,term+1)]\n",
    "    x = 1/(1+cost_funds)\n",
    "    net_prof_val = -amount + m*(x/(x - 1))*(x**term  - 1)\n",
    "    return net_prof_val"
   ]
  },
  {
   "cell_type": "code",
   "execution_count": 21,
   "metadata": {
    "collapsed": false
   },
   "outputs": [],
   "source": [
    "eCar_df['NPV_Complete'] = eCar_df.apply(npv_complete,axis=1)"
   ]
  },
  {
   "cell_type": "code",
   "execution_count": 22,
   "metadata": {
    "collapsed": false
   },
   "outputs": [
    {
     "data": {
      "text/html": [
       "<div>\n",
       "<table border=\"1\" class=\"dataframe\">\n",
       "  <thead>\n",
       "    <tr style=\"text-align: right;\">\n",
       "      <th></th>\n",
       "      <th>﻿Tier</th>\n",
       "      <th>FICO</th>\n",
       "      <th>Approve Date</th>\n",
       "      <th>Term</th>\n",
       "      <th>Amount</th>\n",
       "      <th>Previous Rate</th>\n",
       "      <th>Car  Type</th>\n",
       "      <th>Competition rate</th>\n",
       "      <th>Outcome</th>\n",
       "      <th>Rate</th>\n",
       "      <th>Cost of Funds</th>\n",
       "      <th>Partner Bin</th>\n",
       "      <th>monthly_payment</th>\n",
       "      <th>NPV</th>\n",
       "      <th>monthly_payment_complete</th>\n",
       "      <th>NPV_Complete</th>\n",
       "    </tr>\n",
       "  </thead>\n",
       "  <tbody>\n",
       "    <tr>\n",
       "      <th>0</th>\n",
       "      <td>3.0</td>\n",
       "      <td>695.0</td>\n",
       "      <td>7/1/02</td>\n",
       "      <td>72.0</td>\n",
       "      <td>35000.0</td>\n",
       "      <td></td>\n",
       "      <td>N</td>\n",
       "      <td>6.25</td>\n",
       "      <td>0.0</td>\n",
       "      <td>7.49</td>\n",
       "      <td>1.8388</td>\n",
       "      <td>1.0</td>\n",
       "      <td>749.797392</td>\n",
       "      <td>-34592.235484</td>\n",
       "      <td>699.373513</td>\n",
       "      <td>-34619.657650</td>\n",
       "    </tr>\n",
       "    <tr>\n",
       "      <th>1</th>\n",
       "      <td>1.0</td>\n",
       "      <td>751.0</td>\n",
       "      <td>7/1/02</td>\n",
       "      <td>60.0</td>\n",
       "      <td>40000.0</td>\n",
       "      <td></td>\n",
       "      <td>N</td>\n",
       "      <td>5.65</td>\n",
       "      <td>0.0</td>\n",
       "      <td>5.49</td>\n",
       "      <td>1.8388</td>\n",
       "      <td>3.0</td>\n",
       "      <td>870.893808</td>\n",
       "      <td>-39526.379265</td>\n",
       "      <td>877.518433</td>\n",
       "      <td>-39522.776576</td>\n",
       "    </tr>\n",
       "    <tr>\n",
       "      <th>2</th>\n",
       "      <td>1.0</td>\n",
       "      <td>731.0</td>\n",
       "      <td>7/1/02</td>\n",
       "      <td>60.0</td>\n",
       "      <td>18064.0</td>\n",
       "      <td></td>\n",
       "      <td>N</td>\n",
       "      <td>5.65</td>\n",
       "      <td>0.0</td>\n",
       "      <td>5.49</td>\n",
       "      <td>1.8388</td>\n",
       "      <td>3.0</td>\n",
       "      <td>393.295644</td>\n",
       "      <td>-17850.112876</td>\n",
       "      <td>396.287324</td>\n",
       "      <td>-17848.485902</td>\n",
       "    </tr>\n",
       "    <tr>\n",
       "      <th>3</th>\n",
       "      <td>4.0</td>\n",
       "      <td>652.0</td>\n",
       "      <td>7/1/02</td>\n",
       "      <td>72.0</td>\n",
       "      <td>15415.0</td>\n",
       "      <td></td>\n",
       "      <td>N</td>\n",
       "      <td>6.25</td>\n",
       "      <td>0.0</td>\n",
       "      <td>8.99</td>\n",
       "      <td>1.8388</td>\n",
       "      <td>3.0</td>\n",
       "      <td>358.864871</td>\n",
       "      <td>-15219.837464</td>\n",
       "      <td>308.024077</td>\n",
       "      <td>-15247.486362</td>\n",
       "    </tr>\n",
       "    <tr>\n",
       "      <th>4</th>\n",
       "      <td>1.0</td>\n",
       "      <td>730.0</td>\n",
       "      <td>7/1/02</td>\n",
       "      <td>48.0</td>\n",
       "      <td>32000.0</td>\n",
       "      <td></td>\n",
       "      <td>N</td>\n",
       "      <td>5.65</td>\n",
       "      <td>0.0</td>\n",
       "      <td>5.49</td>\n",
       "      <td>1.8388</td>\n",
       "      <td>1.0</td>\n",
       "      <td>825.570014</td>\n",
       "      <td>-31551.027837</td>\n",
       "      <td>830.590093</td>\n",
       "      <td>-31548.297753</td>\n",
       "    </tr>\n",
       "  </tbody>\n",
       "</table>\n",
       "</div>"
      ],
      "text/plain": [
       "   ﻿Tier   FICO Approve Date  Term   Amount Previous Rate Car  Type  \\\n",
       "0    3.0  695.0       7/1/02  72.0  35000.0                       N   \n",
       "1    1.0  751.0       7/1/02  60.0  40000.0                       N   \n",
       "2    1.0  731.0       7/1/02  60.0  18064.0                       N   \n",
       "3    4.0  652.0       7/1/02  72.0  15415.0                       N   \n",
       "4    1.0  730.0       7/1/02  48.0  32000.0                       N   \n",
       "\n",
       "   Competition rate  Outcome  Rate  Cost of Funds  Partner Bin  \\\n",
       "0              6.25      0.0  7.49         1.8388          1.0   \n",
       "1              5.65      0.0  5.49         1.8388          3.0   \n",
       "2              5.65      0.0  5.49         1.8388          3.0   \n",
       "3              6.25      0.0  8.99         1.8388          3.0   \n",
       "4              5.65      0.0  5.49         1.8388          1.0   \n",
       "\n",
       "   monthly_payment           NPV  monthly_payment_complete  NPV_Complete  \n",
       "0       749.797392 -34592.235484                699.373513 -34619.657650  \n",
       "1       870.893808 -39526.379265                877.518433 -39522.776576  \n",
       "2       393.295644 -17850.112876                396.287324 -17848.485902  \n",
       "3       358.864871 -15219.837464                308.024077 -15247.486362  \n",
       "4       825.570014 -31551.027837                830.590093 -31548.297753  "
      ]
     },
     "execution_count": 22,
     "metadata": {},
     "output_type": "execute_result"
    }
   ],
   "source": [
    "eCar_df.head()"
   ]
  },
  {
   "cell_type": "code",
   "execution_count": null,
   "metadata": {
    "collapsed": true
   },
   "outputs": [],
   "source": []
  }
 ],
 "metadata": {
  "anaconda-cloud": {},
  "kernelspec": {
   "display_name": "Python [Root]",
   "language": "python",
   "name": "Python [Root]"
  },
  "language_info": {
   "codemirror_mode": {
    "name": "ipython",
    "version": 3
   },
   "file_extension": ".py",
   "mimetype": "text/x-python",
   "name": "python",
   "nbconvert_exporter": "python",
   "pygments_lexer": "ipython3",
   "version": "3.5.2"
  }
 },
 "nbformat": 4,
 "nbformat_minor": 0
}
